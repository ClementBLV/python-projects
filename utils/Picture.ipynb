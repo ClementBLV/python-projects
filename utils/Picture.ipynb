{
 "cells": [
  {
   "cell_type": "code",
   "execution_count": 3,
   "id": "21f814a4",
   "metadata": {},
   "outputs": [],
   "source": [
    "## Scrip to download pictures : \n",
    "\n",
    "# imports\n",
    "import os as os\n",
    "import shutil\n",
    "\n",
    "class PictureMover:  \n",
    "    def __init__(self, source_file, destination_file, keep_in_place= False): \n",
    "        self.destination_file = destination_file\n",
    "        self.source_file = source_file\n",
    "        self.keep_in_place = keep_in_place\n",
    "        \n",
    "    def get_all_picturec_in_file(self, source_file): \n",
    "        return (os.listdir(source_file))\n",
    "\n",
    "    def is_in_file (self, source_file: str, picture:str): \n",
    "        return picture in  self.get_all_picturec_in_file(source_file)\n",
    "\n",
    "    def create_file (self, creation_file: str):\n",
    "        os.mkdir(creation_file)\n",
    "\n",
    "    def move_to_file (self, elt:str, source_file , destination_file): \n",
    "        \"\"\" Move the elt from the file source to the destination \"\"\"\n",
    "        if elt in self.get_all_picturec_in_file(destination_file): \n",
    "            print(\"Already in file\")\n",
    "        else: \n",
    "            print(elt + \" move to file \"+ destination_file)\n",
    "            shutil.move(source_file+\"/\"+elt, destination_file)    \n",
    "    def copy_to_file (self, elt:str, source_file , destination_file): \n",
    "        \"\"\" Move the elt from the file source to the destination \"\"\"\n",
    "        if elt in self.get_all_picturec_in_file(destination_file): \n",
    "            print(\"Already in file\")\n",
    "        else: \n",
    "            print(elt + \" copy to file \"+ destination_file)\n",
    "            shutil.copy(source_file+\"/\"+elt, destination_file)  \n",
    "    \n",
    "    def move_all_elt_of_files (self): \n",
    "        \"\"\" move all the elt from one file to another \"\"\"\n",
    "        for elt in self.get_all_picturec_in_file(self.source_file): \n",
    "            if self.keep_in_place: \n",
    "                self.copy_to_file(elt, self.source_file, self.destination_file)\n",
    "            else: \n",
    "                self.move_to_file(elt, self.source_file, self.destination_file)\n"
   ]
  },
  {
   "cell_type": "code",
   "execution_count": 6,
   "id": "8907f034",
   "metadata": {},
   "outputs": [
    {
     "name": "stdout",
     "output_type": "stream",
     "text": [
      "1.jpg move to file C:\\Users\\Utilisateur\\Desktop\\test\n",
      "20220127_145351.jpg move to file C:\\Users\\Utilisateur\\Desktop\\test\n",
      "20220127_145401.jpg move to file C:\\Users\\Utilisateur\\Desktop\\test\n",
      "20220202_143746.jpg move to file C:\\Users\\Utilisateur\\Desktop\\test\n",
      "Capture d’écran 2022-10-05 053839.png move to file C:\\Users\\Utilisateur\\Desktop\\test\n"
     ]
    }
   ],
   "source": [
    "#parameters\n",
    "\n",
    "source_file = r\"C:\\Users\\Utilisateur\\Desktop\\올빼미\"                         # where the picture come from 올빼미 \n",
    "destination_file =  r\"C:\\Users\\Utilisateur\\Desktop\\test\"                    # where they will be moved \n",
    "keep_in_place = False #to keep the element in the source file \n",
    "\n",
    "PictureMover(source_file, destination_file, keep_in_place).move_all_elt_of_files()"
   ]
  }
 ],
 "metadata": {
  "kernelspec": {
   "display_name": "Python 3 (ipykernel)",
   "language": "python",
   "name": "python3"
  },
  "language_info": {
   "codemirror_mode": {
    "name": "ipython",
    "version": 3
   },
   "file_extension": ".py",
   "mimetype": "text/x-python",
   "name": "python",
   "nbconvert_exporter": "python",
   "pygments_lexer": "ipython3",
   "version": "3.9.7"
  }
 },
 "nbformat": 4,
 "nbformat_minor": 5
}
