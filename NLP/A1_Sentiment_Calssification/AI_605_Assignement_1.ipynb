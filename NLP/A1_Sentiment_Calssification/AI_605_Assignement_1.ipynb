{
 "cells": [
  {
   "cell_type": "markdown",
   "metadata": {
    "id": "mbGnNWI1lRy_"
   },
   "source": [
    "# KAIST AI605 Assignment 1: Text Classification\n",
    "TA in charge: Miyoung Ko (miyoungko@kaist.ac.kr)\n",
    "\n",
    "**Due Date:** March 31 (Thu) 11:00pm, 2022\n",
    "\n",
    "## Your Submission\n",
    "If you are a KAIST student, you will submit your assignment via [KLMS](https://klms.kaist.ac.kr). If you are a NAVER student, you will submit via [Google Form](https://forms.gle/qjjkqazLvA7tkfUz7). \n",
    "\n",
    "You need to submit both (1) a PDF of this notebook, and (2) a link to CoLab for execution (.ipynb file is also allowed).\n",
    "\n",
    "Use in-line LaTeX (see below) for mathematical expressions. Collaboration among students is allowed but it is not a group assignment so make sure your answer and code are your own. Make sure to mention your collaborators in your assignment with their names and their student ids.\n",
    "\n",
    "## Grading\n",
    "The entire assignment is out of 20 points. You can obtain up to 2 bonus points (i.e. max score is 22 points). For every late day, your grade will be deducted by 2 points (KAIST students only). You can use one of your no-penalty late days (7 days in total). Make sure to mention this in your submission. You will receive a grade of zero if you submit after 7 days.\n",
    "\n",
    "\n",
    "## Environment\n",
    "You will need Python 3.7+ and PyTorch 1.9+, which are already available on Colab:"
   ]
  },
  {
   "cell_type": "code",
   "execution_count": 1,
   "metadata": {
    "colab": {
     "base_uri": "https://localhost:8080/"
    },
    "id": "kYxEp1XMpxem",
    "outputId": "f9954e7c-f362-40d5-af8e-d37856b71ed9",
    "scrolled": true
   },
   "outputs": [
    {
     "name": "stdout",
     "output_type": "stream",
     "text": [
      "python 3.9.7\n",
      "torch 1.11.0+cpu\n"
     ]
    }
   ],
   "source": [
    "from platform import python_version\n",
    "import torch\n",
    "from torch import nn\n",
    "from torchsummary import summary\n",
    "import numpy as np \n",
    "import matplotlib.pyplot as plt\n",
    "\n",
    "print(\"python\", python_version())\n",
    "print(\"torch\", torch.__version__)"
   ]
  },
  {
   "cell_type": "code",
   "execution_count": 2,
   "metadata": {},
   "outputs": [
    {
     "name": "stdout",
     "output_type": "stream",
     "text": [
      "Requirement already satisfied: torchsummary in c:\\users\\utilisateur\\anaconda3\\lib\\site-packages (1.5.1)\n"
     ]
    }
   ],
   "source": [
    "!pip install torchsummary"
   ]
  },
  {
   "cell_type": "markdown",
   "metadata": {
    "id": "sB7xyzIgnnkA"
   },
   "source": [
    "## 1. Limitations of Vanilla RNNs\n",
    "In Lecture 02, we saw that a multi-layer perceptron (MLP) without activation function is equivalent to a single linear transformation with respect to the inputs. One can define a vanilla recurrent neural network without activation as, given inputs $\\textbf{x}_1 \\dots \\textbf{x}_T$, the outputs $\\textbf{h}_t$ is obtained by\n",
    "$$\\textbf{h}_t = \\textbf{V}\\textbf{h}_{t-1} + \\textbf{U}\\textbf{x}_t + \\textbf{b},$$\n",
    "where $\\textbf{V}, \\textbf{U}, \\textbf{b}$ are trainable weights. \n",
    "\n",
    "> **Problem 1.1** *(2 point)* Show that such recurrent neural network (RNN) without activation function is equivalent to a single linear transformation with respect to the inputs, which means each $\\textbf{h}_t$ is a linear combination of the inputs.\n",
    "\n",
    "**Answer** \n",
    ">First of all lets wright the firts hidden functions for $t$ = {1 , 2, 3} : \n",
    "\\begin\n",
    "\n",
    "\\begin{equation}\n",
    "    \\left\\lbrace\n",
    "\t\t\\begin{split}\n",
    "            h_1 &= Ux_1 + b \\\\\n",
    "            \\\\\n",
    "            h_2 &= Vh_1 + Ux_2 + b \\\\\n",
    "                &= UVx_1 + Ux_2 + b(V+1)\\\\\n",
    "            \\\\\n",
    "            h_3 &= Vh_2 + Ux_3 +b = V[UVx_1 + Ux_2 + b(V+1)] +  Ux_3 +b \\\\\n",
    "                &= U[ V²x_1 + Vx_2 + x_3] + b[V²+V+1] \n",
    "\t\t\\end{split}\n",
    "\t\\right.\n",
    "\\end{equation}\n",
    "\n",
    ">We deduced the recurrent expression : \n",
    "$$h_n = U \\sum\\limits_{i=1}^{n} V^{n-i}x_i + b\\sum\\limits_{i=1}^{n} V^{i-1}$$\n",
    "We are going to prove the previous statement with an induction method. \n",
    ">\n",
    ">\n",
    ">**Base case**: for $n=0$ the expression is obviously true. \n",
    ">\n",
    ">\n",
    ">**Inductive step:**  Show that for any $n$ ≥ $0$, if the statement holds for the rank $n$, then it also holds for $n+1$. \n",
    ">\n",
    ">\n",
    ">We assume the induction hypothesis that for a particular $n$, the single case for the rank $n$ holds, meaning the statement for $n$ is true. So \n",
    "$$h_n = U \\sum\\limits_{i=1}^{n} V^{n-i}x_i + b\\sum\\limits_{i=1}^{n} V^{i-1}$$\n",
    "and \n",
    "$$ h_{n+1} = Vh_{n} + Ux_{n+1} + b $$ so, it follows that  \n",
    "$$ h_{n+1} = V[U \\sum\\limits_{i=1}^{n} V^{n-i}x_i + b\\sum\\limits_{i=1}^{n} V^{i-1}] + Ux_{n+1} + b $$ \n",
    "$$ h_{n+1} = U [\\sum\\limits_{i=1}^{n} V^{n+1-i}x_i  + V^{n+1-(n+1)} x_{n+1}] + b[ \\sum\\limits_{i=1}^{n} V^{i} + V^0]  $$ buy changing the indexes cleverly in the second sum $(i = j-1)$ We finally obtain : \n",
    "$$ h_{n+1} = U [\\sum\\limits_{i=1}^{n+1} V^{n+1-i}x_i] + b[ \\sum\\limits_{j=1}^{n+1} V^{j} ] $$\n",
    "**Conclusion:**  Since both the base case and the inductive step have been proved as true, by mathematical induction the statement holds for every natural number n : \n",
    ">\n",
    ">**Without an activation function, each  $𝐡_t$  is a linear combination of the inputs.**\n",
    "\n",
    "\n",
    "_______________________________________________________________\n",
    "\n",
    "\n",
    "In Lecture 05 and 06, we will see how RNNs can model non-linearity via activation function, but they still suffer from exploding or vanishing gradients. We can mathematically show that, if the recurrent relation is\n",
    "$$ \\textbf{h}_t = \\sigma (\\textbf{V}\\textbf{h}_{t-1} + \\textbf{U}\\textbf{x}_t + \\textbf{b}) $$\n",
    "then\n",
    "$$ \\frac{\\partial \\textbf{h}_t}{\\partial \\textbf{h}_{t-1}} = \\text{diag}(\\sigma' (\\textbf{V}\\textbf{h}_{t-1} + \\textbf{U}\\textbf{x}_t + \\textbf{b}))\\textbf{V}$$\n",
    "so\n",
    "$$\\frac{\\partial \\textbf{h}_T}{\\partial \\textbf{h}_1} \\propto \\textbf{V}^{T-1}$$\n",
    "which means this term will be very close to zero if the norm of $\\bf{V}$ is smaller than 1 and really big otherwise.\n",
    "\n",
    "> **Problem 1.2** *(2 points)* Explain how exploding gradient can be mitigated if we use gradient clipping.\n",
    "\n",
    ">**Answer** \\\n",
    "\n",
    ">There are several ways to avoid an exploding gradient. A  common way is the $\\mathcal{L}_2$ regulation approach, which is based on a \"weight decay\" of the cost function of the network. But there is also the **gradient Clipping** which has better results and is easier to implement. The gradient clipping is used during the backward propagation phase. The error derivative is changed or clipped to a threshold, and the clipped gradient updates weights.\n",
    ">\n",
    ">When the error is rescaled, it will also rescale the weight during their updates. In this way the risk of overflow or underflow of the network. They are two ways to \"clip the gradient\".The first one is clipping by value: here we have two boundary values,  if the gradient is not between them it is clipped and receives the threshold value.\n",
    ">\n",
    ">The second method is clipping by norm, if the norm of the gradient exceeds a threshold value, then $$gradient= threshold.\\frac{gradient}{||gradient||} $$ Like the gradient, the maximum norm a gradient can achieve is the threshold. So it avoids exploding gradient.\n",
    ">\n",
    "> At the end we have $\\forall t$ \n",
    "\\begin{equation}\n",
    "    g_t = \n",
    "    \\left\\lbrace\n",
    "\t\t\\begin{split}\n",
    "            \\lambda \\frac{g_t}{||g_t||} \\text{  if  } ||g_t|| > \\lambda\\\\\\\n",
    "            g_t \\text{    otherwise}\n",
    "\t\t\\end{split}\n",
    "\t\\right.\n",
    "\\end{equation}\n",
    "> So This avoids the scenario where $g_t \\longrightarrow \\infty$ and so the exploding gradient. \n",
    "_____________________________________________________________________\n",
    "\n",
    "> **Problem 1.3** *(2 points)* Explain how vanishing gradient can be mitigated if we use LSTM. See the Lecture 05 and 06 slides for the definition of LSTM.\n",
    "\n",
    "> The vanishing gradient, means that the gradient becomes too small and doesn't change at each iterations. The LSTM method uses different \"gates\" which appear in the expression of the gradient. There is a gate called forget gates, the forget gate's vector of activation helps the model do decide whether or not the value should be forgotten. To avoid the vanishing gradient, we just have to choose the parameter of the gates such as in the next step we don't have $ \\nabla \\longrightarrow 0$ \n",
    "Mathematicaly we can see it with the expretion of the output of an LSTM cell: \n",
    "$$ c_t = f_t * c_{t-1} + i_t * \\widetilde{c_t}  (1)$$\n",
    "Where * represent the Hadamard product. We compute the gradient of the expression (1) with respect to $c_1$\n",
    ">\n",
    ">\\begin{equation}\n",
    "\t\t\\begin{split}\n",
    "            g_t & =  \\frac{\\partial \\textbf{c}_t}{\\partial \\textbf{c}_1} \\\\\n",
    "                &= \\frac{\\partial \\textbf{c}_t}{\\partial \\textbf{c}_{t-1}} \\cdot \\frac{\\partial \\textbf{c}_{t-1}}{\\partial \\textbf{c}_{t-2}} \\cdots \\frac{\\partial \\textbf{c}_2}{\\partial \\textbf{c}_{1}} \\text{   (chain rule)} \\\\\n",
    "\t\t\\end{split}\n",
    "\\end{equation}\n",
    ">\n",
    ">But, $ i_t * \\widetilde{c_t}$ and $f_t$ are independant of $c_t, \\forall t $. So $\\forall i \\in [[ 1, t]]$ : \n",
    ">\n",
    ">\\begin{equation}\n",
    "\t\t\\begin{split}\n",
    "            \\frac{\\partial }{\\partial \\textbf{c}_i} (i_{i+1} * \\widetilde{c_{i+1}}) &=0  \\\\\n",
    "            \\frac{\\partial }{\\partial \\textbf{c}_i} (f_{i+1} * c_{i}) &= f_{i+1} \\\\\n",
    "\t\t\\end{split}\n",
    "\\end{equation}\n",
    ">\n",
    ">Hense\n",
    ">\n",
    ">\\begin{equation}\n",
    "\t\t\\begin{split}\n",
    "            g_t &=f_t . f_{t-1} ... f_{2}  \\text{           ( 2 )}  \\\\\n",
    "\t\t\\end{split}\n",
    "\\end{equation}\n",
    ">\n",
    "> Here $f_t = \\sigma_g (W_fx_f + U_f +b_f)$ where $\\sigma_g$ is the sigmoide fonction. So, $\\forall i \\in [[2, t]], f_i \\in [0, 1]$. So for each iterations, the gradient will remain close to 1. So as the equation (2) shows, the gradient of the LSTM correspond to the product of the vectors $f_i$, and so cannot vanish. On the other hand, the gradient of the RNN is proportionnal to V so if V is to slow, after only a few iteration it vanishes exponentially.  "
   ]
  },
  {
   "cell_type": "markdown",
   "metadata": {
    "id": "S0AmoAT3wA1J"
   },
   "source": [
    "## 2. Creating Vocabulary from Training Data\n",
    "Creating the vocabulary is the first step for every natural language processing model. In this section, you will use Stanford Sentiment Treebank (SST), a popular dataset for sentiment classification, to create your vocabulary.\n",
    "\n",
    "### Obtaining SST via Hugging Face\n",
    "We will use `datasets` package offered by Hugging Face, which allows us to easily download various language datasets, including Stanford Sentiment Treebank.\n",
    "\n",
    "First, install the package:"
   ]
  },
  {
   "cell_type": "markdown",
   "metadata": {
    "colab": {
     "base_uri": "https://localhost:8080/"
    },
    "id": "YK0S_VTJxds4",
    "outputId": "d8257280-f4f0-47df-c17b-9e37a5f27d09",
    "scrolled": true
   },
   "source": [
    "!pip install datasets"
   ]
  },
  {
   "cell_type": "markdown",
   "metadata": {
    "id": "Y8eWbt2yxb3H"
   },
   "source": [
    "Then download SST and print the first example:"
   ]
  },
  {
   "cell_type": "code",
   "execution_count": 3,
   "metadata": {
    "colab": {
     "base_uri": "https://localhost:8080/"
    },
    "id": "6drFIvgxxjgI",
    "outputId": "d903a062-ac0f-4da1-ec14-efd1d533c4f4"
   },
   "outputs": [
    {
     "name": "stderr",
     "output_type": "stream",
     "text": [
      "No config specified, defaulting to: sst/default\n",
      "Reusing dataset sst (C:\\Users\\Utilisateur\\.cache\\huggingface\\datasets\\sst\\default\\1.0.0\\b8a7889ef01c5d3ae8c379b84cc4080f8aad3ac2bc538701cbe0ac6416fb76ff)\n"
     ]
    },
    {
     "data": {
      "application/vnd.jupyter.widget-view+json": {
       "model_id": "0dbf9e22f58147928b4da07a7a7ca2f8",
       "version_major": 2,
       "version_minor": 0
      },
      "text/plain": [
       "  0%|          | 0/3 [00:00<?, ?it/s]"
      ]
     },
     "metadata": {},
     "output_type": "display_data"
    },
    {
     "name": "stdout",
     "output_type": "stream",
     "text": [
      "{'label': 0.6944400072097778,\n",
      " 'sentence': \"The Rock is destined to be the 21st Century 's new `` Conan '' \"\n",
      "             \"and that he 's going to make a splash even greater than Arnold \"\n",
      "             'Schwarzenegger , Jean-Claud Van Damme or Steven Segal .',\n",
      " 'tokens': \"The|Rock|is|destined|to|be|the|21st|Century|'s|new|``|Conan|''|and|that|he|'s|going|to|make|a|splash|even|greater|than|Arnold|Schwarzenegger|,|Jean-Claud|Van|Damme|or|Steven|Segal|.\",\n",
      " 'tree': '70|70|68|67|63|62|61|60|58|58|57|56|56|64|65|55|54|53|52|51|49|47|47|46|46|45|40|40|41|39|38|38|43|37|37|69|44|39|42|41|42|43|44|45|50|48|48|49|50|51|52|53|54|55|66|57|59|59|60|61|62|63|64|65|66|67|68|69|71|71|0'}\n"
     ]
    }
   ],
   "source": [
    "from datasets import load_dataset\n",
    "from pprint import pprint\n",
    "\n",
    "sst_dataset = load_dataset('sst')\n",
    "pprint(sst_dataset['train'][0])"
   ]
  },
  {
   "cell_type": "code",
   "execution_count": 4,
   "metadata": {},
   "outputs": [
    {
     "name": "stdout",
     "output_type": "stream",
     "text": [
      "{'test': Dataset({\n",
      "    features: ['sentence', 'label', 'tokens', 'tree'],\n",
      "    num_rows: 2210\n",
      "}),\n",
      " 'train': Dataset({\n",
      "    features: ['sentence', 'label', 'tokens', 'tree'],\n",
      "    num_rows: 8544\n",
      "}),\n",
      " 'validation': Dataset({\n",
      "    features: ['sentence', 'label', 'tokens', 'tree'],\n",
      "    num_rows: 1101\n",
      "})}\n"
     ]
    }
   ],
   "source": [
    "pprint(sst_dataset)"
   ]
  },
  {
   "cell_type": "markdown",
   "metadata": {
    "id": "uAVQyYWkxib6"
   },
   "source": [
    "Note that each `label` is a score between 0 and 1. You will round it to either 0 or 1 for binary classification (positive for 1, negative for 0).\n",
    "In this first example, the label is rounded to 1, meaning that the sentence is a positive review.\n",
    "You will only use `sentence` as the input; please ignore other values."
   ]
  },
  {
   "cell_type": "raw",
   "metadata": {
    "colab": {
     "base_uri": "https://localhost:8080/"
    },
    "id": "qOsxkEpyxTW1",
    "outputId": "5c0334dd-7b77-4239-f0fc-7dc42cdca11f"
   },
   "source": [
    "# Space tokenization\n",
    "text = \"Hello world!\"\n",
    "tokens = text.split(' ')\n",
    "print(tokens)"
   ]
  },
  {
   "cell_type": "raw",
   "metadata": {
    "colab": {
     "base_uri": "https://localhost:8080/"
    },
    "id": "_iCTn95_pK7i",
    "outputId": "12664f20-5696-4530-bc6c-38029756143e"
   },
   "source": [
    "# Constructing vocabulary with `UNK`\n",
    "vocab = ['PAD', 'UNK'] + list(set(text.split(' ')))\n",
    "word2id = {word: id_ for id_, word in enumerate(vocab)}\n",
    "print(vocab)\n",
    "print(word2id['Hello'])\n",
    "## return ['PAD', 'UNK', 'world!', 'Hello'] //3"
   ]
  },
  {
   "cell_type": "markdown",
   "metadata": {
    "id": "2s0T6qk6x78s"
   },
   "source": [
    "> **Problem 2.1** *(2 points)* Using space tokenizer, create the vocabulary for the training data and report the vocabulary size here. Make sure that you add an `UNK` token to the vocabulary to account for words (during inference time) that you haven't seen. See below for an example with a short text."
   ]
  },
  {
   "cell_type": "code",
   "execution_count": 5,
   "metadata": {},
   "outputs": [],
   "source": [
    "# contructing the vocabulary of the dataset \n",
    "vobab_dataset = ['PAD', 'UNK']\n",
    "           \n",
    "for i in range (0, len(sst_dataset['train'])):\n",
    "    # we can either chose to put every words in lower case or not, here we chose to put it in lower case\n",
    "    \n",
    "    vobab_dataset= (vobab_dataset+ sst_dataset['train'][i]['sentence'].lower().split(' '))\n",
    "    #vobab_dataset= (vobab_dataset+ sst_dataset['train'][i]['sentence'].split(' '))\n",
    "\n",
    "word_id = {word: id_ for id_, word in enumerate(vobab_dataset)}"
   ]
  },
  {
   "cell_type": "code",
   "execution_count": 6,
   "metadata": {},
   "outputs": [
    {
     "name": "stdout",
     "output_type": "stream",
     "text": [
      "163565\n"
     ]
    }
   ],
   "source": [
    "print(len(vobab_dataset))"
   ]
  },
  {
   "cell_type": "markdown",
   "metadata": {},
   "source": [
    "pprint(vobab_dataset)"
   ]
  },
  {
   "cell_type": "markdown",
   "metadata": {
    "id": "sqVv57zy1OZ0"
   },
   "source": [
    "> **Problem 2.2** *(1 point)* Using all words in the training data will make the vocabulary very big. Reduce its size by only including words that occur at least 2 times. How does the size of the vocabulary change?"
   ]
  },
  {
   "cell_type": "code",
   "execution_count": 8,
   "metadata": {},
   "outputs": [],
   "source": [
    "freq_threshold = 2\n",
    "frequencies = {}\n",
    "# We initialise PAD to 0 and UNK to 1\n",
    "light_vocab = ['PAD','UNK']\n",
    "light_wordIndx = {'PAD': 0 ,'UNK': 1}\n",
    "idx = 2\n",
    "for word in vobab_dataset: \n",
    "    if word.isalpha(): \n",
    "        if word not in frequencies: \n",
    "            frequencies[word] = 1\n",
    "        else : \n",
    "            frequencies[word] +=1\n",
    "        if frequencies[word]== freq_threshold: \n",
    "            light_vocab.append(word)\n",
    "            light_wordIndx[word]= idx\n",
    "            idx+= 1\n"
   ]
  },
  {
   "cell_type": "code",
   "execution_count": 9,
   "metadata": {},
   "outputs": [
    {
     "name": "stdout",
     "output_type": "stream",
     "text": [
      "7810\n"
     ]
    }
   ],
   "source": [
    "# with the upper case word we get len(light_vocab) = 8738\n",
    "# with all the caracter wich are not letters (ie without isalpaha check ) len(light_vocab) = 8218\n",
    "print(len(light_vocab))"
   ]
  },
  {
   "cell_type": "markdown",
   "metadata": {},
   "source": [
    "#The dictionnary\n",
    "pprint(light_wordIndx)\n",
    "\n",
    "output : \n",
    "{'PAD': 0,\n",
    " 'UNK': 1,\n",
    " 'a': 7,\n",
    " 'aaliyah': 7475,\n",
    " 'abandon': 3017,\n",
    " 'abandoned': 7185,\n",
    " 'abc': 7397,\n",
    " 'abel': 5558,\n",
    " 'abhorrent': 6529,\n",
    " 'ability': 1127,\n",
    " 'able': 997,\n",
    " 'ably': 2808,\n",
    " 'abound': 4127,\n",
    " 'about': 130,"
   ]
  },
  {
   "cell_type": "markdown",
   "metadata": {
    "id": "nDQbmM3W2Im3"
   },
   "source": [
    "## 3. Text Classification with Multi-Layer Perceptron and Recurrent Neural Network\n",
    "\n",
    "You can now use the vocabulary constructed from the training data to create an embedding matrix. You will use the embedding matrix to map each input sequence of tokens to a list of embedding vectors. One of the simplest baseline is to fix the input length (with truncation or padding), flatten the word embeddings, apply a linear transformation followed by an activation, and finally classify the output into the two classes: "
   ]
  },
  {
   "cell_type": "code",
   "execution_count": 11,
   "metadata": {},
   "outputs": [],
   "source": [
    "# parameters \n",
    "\n",
    "padding = 32\n",
    "length = 32\n",
    "weight_decay=7e-4\n",
    "learning_rate=0.01\n",
    "batch_size = 128 #BEFORE (50)\n",
    "epochs = 100\n",
    "d = 64 # before 3 and 128  "
   ]
  },
  {
   "cell_type": "raw",
   "metadata": {
    "colab": {
     "base_uri": "https://localhost:8080/"
    },
    "id": "zFIAvGS5pQXC",
    "outputId": "fbef02c4-2173-458e-c54f-002e289e8dbc"
   },
   "source": [
    "#['PAD', 'UNK', 'world!', 'Hello']\n",
    "\n",
    "input_ = \"hi world!\" # hi -- UNK = 1 / world! = 2 \n",
    "input_tokens = input_.split(' ')\n",
    "input_ids = [word2id[word] if word in word2id else 1 for word in input_tokens] # UNK if word not found\n",
    "if len(input_ids) < length:\n",
    "    input_ids = input_ids + [0] * (length - len(input_ids)) # PAD tokens at the end\n",
    "else:\n",
    "    input_ids = input_ids[:length]\n",
    "\n",
    "input_tensor = torch.LongTensor([input_ids]) # the first dimension is minibatch size\n",
    "print(input_tensor)"
   ]
  },
  {
   "cell_type": "code",
   "execution_count": 12,
   "metadata": {
    "colab": {
     "base_uri": "https://localhost:8080/"
    },
    "id": "3vUmITCFqMit",
    "outputId": "69762f39-e932-457c-f06b-bf78047a6c50"
   },
   "outputs": [],
   "source": [
    "# Two-layer MLP classification\n",
    "class Baseline(nn.Module):\n",
    "    def __init__(self, d, length, vocab= light_vocab):\n",
    "        super(Baseline, self).__init__()\n",
    "        self.embedding = nn.Embedding(len(vocab), d)\n",
    "        self.layer = nn.Linear(d * length, d, bias=True)\n",
    "        self.relu  = nn.ReLU()\n",
    "        self.class_layer = nn.Linear(d, 2, bias=True)\n",
    "\n",
    "    def forward(self, input_tensor):\n",
    "        emb = self.embedding(input_tensor) # [batch_size, length, d]\n",
    "        emb_flat = emb.view(emb.size(0), -1) # [batch_size, length*d]\n",
    "        hidden = self.relu(self.layer(emb_flat))\n",
    "        logits = self.class_layer(hidden)\n",
    "        return logits"
   ]
  },
  {
   "cell_type": "raw",
   "metadata": {},
   "source": [
    "d2 = 3 # usually bigger, e.g. 128\n",
    "baseline1 = Baseline(d2, length, vocab)\n",
    "logits = baseline1(input_tensor)\n",
    "softmax = nn.Softmax(1)\n",
    "print(softmax(logits)) # probability for each class"
   ]
  },
  {
   "cell_type": "markdown",
   "metadata": {
    "id": "G9UuMWCG9YNs"
   },
   "source": [
    "Now we will compute the loss, which is the negative log probability of the input text's label being the target label (`1`), which in fact turns out to be equivalent to the cross entropy (https://en.wikipedia.org/wiki/Cross_entropy) between the probability distribution and a one-hot distribution of the target label (note that we use `logits` instead of `softmax(logits)` as the input to the cross entropy, which allow us to avoid numerical instability). "
   ]
  },
  {
   "cell_type": "raw",
   "metadata": {
    "colab": {
     "base_uri": "https://localhost:8080/"
    },
    "id": "6nxgYNzQqaPJ",
    "outputId": "2ce04c23-b72a-4127-fa07-3d796fc75366"
   },
   "source": [
    "cel = nn.CrossEntropyLoss()\n",
    "label = torch.LongTensor([1]) # The ground truth label for \"hi world!\" is positive.\n",
    "loss = cel(logits, label) # Loss, a.k.a L , loss(what we got with the model, ground_truth)"
   ]
  },
  {
   "cell_type": "markdown",
   "metadata": {
    "id": "IKR99jZ2-wZW"
   },
   "source": [
    "Once we have the loss defined, only one step remains! We compute the gradients of parameters with respective to the loss and update. Fortunately, PyTorch does this for us in a very convenient way. Note that we used only one example to update the model, which is basically a Stochastic Gradient Descent (SGD) with minibatch size of 1. A recommended minibatch size in this exercise is at least 16. It is also recommended that you reuse your training data at least 10 times (i.e. 10 *epochs*)."
   ]
  },
  {
   "cell_type": "raw",
   "metadata": {
    "id": "w8JjhgQ071d6"
   },
   "source": [
    "optimizer = torch.optim.SGD(baseline1.parameters(), lr=0.1)\n",
    "optimizer.zero_grad() # reset process\n",
    "loss.backward() # compute gradients\n",
    "optimizer.step() # update parameters"
   ]
  },
  {
   "cell_type": "markdown",
   "metadata": {
    "id": "t8M0fhFf_LbG"
   },
   "source": [
    "Once you have done this, all weight parameters will have `grad` attributes that contain their gradients with respect to the loss."
   ]
  },
  {
   "cell_type": "raw",
   "metadata": {
    "colab": {
     "base_uri": "https://localhost:8080/"
    },
    "id": "TpwOavsD8mpn",
    "outputId": "12338c3d-149e-4baf-86f2-e361e0c084b8"
   },
   "source": [
    "#print(baseline.layer.weight.grad) # dL/dw of weights in the linear layer"
   ]
  },
  {
   "cell_type": "markdown",
   "metadata": {},
   "source": [
    "================================================================================================"
   ]
  },
  {
   "cell_type": "markdown",
   "metadata": {
    "id": "W-O9D26U_aEB"
   },
   "source": [
    "> **Problem 3.1** *(2 points)* Properly train a MLP baseline model on SST and report the model's accuracy on the dev data."
   ]
  },
  {
   "cell_type": "markdown",
   "metadata": {},
   "source": [
    "### Contruction of the embedded matrix : "
   ]
  },
  {
   "cell_type": "code",
   "execution_count": 13,
   "metadata": {},
   "outputs": [],
   "source": [
    "def vector_contructor(sentence, light_vocab= light_vocab,\n",
    "                      light_wordIndx = light_wordIndx, padding= padding):  \n",
    "    sentence_tocken = sentence.split(' ')\n",
    "    sentence_ids = [light_wordIndx[word] if word in light_wordIndx \n",
    "                    else 1 for word in sentence_tocken] # UNK if word not found\n",
    "    if len(sentence_ids)<padding: \n",
    "        sentence_ids = sentence_ids + [0] * (padding - len(sentence_ids)) # PAD tokens at the end\n",
    "    else:\n",
    "        sentence_ids = sentence_ids[:padding]\n",
    "\n",
    "    return(torch.LongTensor([sentence_ids]))"
   ]
  },
  {
   "cell_type": "markdown",
   "metadata": {},
   "source": [
    "### TRAINING SET "
   ]
  },
  {
   "cell_type": "code",
   "execution_count": 14,
   "metadata": {
    "scrolled": true
   },
   "outputs": [
    {
     "name": "stdout",
     "output_type": "stream",
     "text": [
      "tensor([[   1,    1,    5, 1983,    3,   24,    2,    1,    1,    1,   51,    1,\n",
      "            1,    1,   13,    6,   97,    1,  127,    3,   25,    7, 5969,   38,\n",
      "         1001,   18,    1,    1,    1,    1,    1,    1]])\n",
      "tensor([   1,    1,    5, 1983,    3,   24,    2,    1,    1,    1,   51,    1,\n",
      "           1,    1,   13,    6,   97,    1,  127,    3,   25,    7, 5969,   38,\n",
      "        1001,   18,    1,    1,    1,    1,    1,    1])\n"
     ]
    }
   ],
   "source": [
    "## we construct the input tensor of the SST \n",
    "\n",
    "input_tensor = torch.zeros(1,padding)\n",
    "for i in range (0, len(sst_dataset['train'])):\n",
    "    input_tensor = torch.cat([input_tensor, vector_contructor( sst_dataset['train'][i]['sentence'])]) \n",
    "input_tensor = input_tensor[1:,:].long()\n",
    "\n",
    "print(vector_contructor (sst_dataset['train'][0]['sentence']))\n",
    "print(input_tensor[0])"
   ]
  },
  {
   "cell_type": "markdown",
   "metadata": {},
   "source": [
    "Two exemples :  "
   ]
  },
  {
   "cell_type": "code",
   "execution_count": 15,
   "metadata": {},
   "outputs": [
    {
     "name": "stdout",
     "output_type": "stream",
     "text": [
      "tensor([[  1,  81,   7, 128,  19,  63,   0,   0,   0,   0,   0,   0,   0,   0,\n",
      "           0,   0,   0,   0,   0,   0,   0,   0,   0,   0,   0,   0,   0,   0,\n",
      "           0,   0,   0,   0]])\n",
      "tensor([[   1,  601,   29,    1,   31,   29,  822,    7, 7157,    4, 1975,  139,\n",
      "            0,    0,    0,    0,    0,    0,    0,    0,    0,    0,    0,    0,\n",
      "            0,    0,    0,    0,    0,    0,    0,    0]])\n"
     ]
    }
   ],
   "source": [
    "# test : \n",
    "print(vector_contructor('It was a really good movie'))\n",
    "# more than eight words \n",
    "print(vector_contructor('I lived at KAIST for at least a dozen of weeks now'))"
   ]
  },
  {
   "cell_type": "markdown",
   "metadata": {},
   "source": [
    "### TESTING SET"
   ]
  },
  {
   "cell_type": "code",
   "execution_count": 16,
   "metadata": {},
   "outputs": [
    {
     "name": "stdout",
     "output_type": "stream",
     "text": [
      "tensor([[   1,   45,    1,  ...,    0,    0,    0],\n",
      "        [   1,   11,   94,  ...,    0,    0,    0],\n",
      "        [   1,   33,  622,  ...,    0,    0,    0],\n",
      "        ...,\n",
      "        [   1,    1,    1,  ...,    0,    0,    0],\n",
      "        [   1,    1, 5324,  ...,    0,    0,    0],\n",
      "        [   1,    1,    1,  ...,    0,    0,    0]])\n",
      "torch.Size([2210, 32])\n"
     ]
    }
   ],
   "source": [
    "## input tensor for the test set \n",
    "\n",
    "input_tensor_test = torch.zeros(1,padding)\n",
    "for i in range (0, len(sst_dataset['test'])):\n",
    "    input_tensor_test = torch.cat([input_tensor_test, vector_contructor( sst_dataset['test'][i]['sentence'])]) \n",
    "input_tensor_test = input_tensor_test[1:,:].long()\n",
    "\n",
    "print (input_tensor_test)\n",
    "print(input_tensor_test.size())"
   ]
  },
  {
   "cell_type": "markdown",
   "metadata": {},
   "source": [
    "### GROUND TRUTH"
   ]
  },
  {
   "cell_type": "markdown",
   "metadata": {},
   "source": [
    "We construct a vector for the ground truth (1= Positive , 0 = Negative)"
   ]
  },
  {
   "cell_type": "code",
   "execution_count": 17,
   "metadata": {},
   "outputs": [],
   "source": [
    "ground_truth = [int(round(sst_dataset['train'][i]['label'])) for i in range (0, len(sst_dataset['train']))]\n",
    "ground_truth = (torch.LongTensor(ground_truth))\n",
    "\n",
    "ground_truth_test = [int(round(sst_dataset['test'][i]['label'])) for i in range (0, len(sst_dataset['test']))]\n",
    "ground_truth_test = (torch.LongTensor(ground_truth_test))"
   ]
  },
  {
   "cell_type": "markdown",
   "metadata": {},
   "source": [
    "### Construction of the model"
   ]
  },
  {
   "cell_type": "code",
   "execution_count": 18,
   "metadata": {},
   "outputs": [
    {
     "name": "stdout",
     "output_type": "stream",
     "text": [
      "Using cpu device\n"
     ]
    }
   ],
   "source": [
    "device = \"cuda\" if torch.cuda.is_available() else \"cpu\"\n",
    "print(f\"Using {device} device\")"
   ]
  },
  {
   "cell_type": "code",
   "execution_count": 19,
   "metadata": {},
   "outputs": [],
   "source": [
    "# method to shuffle a the imput and its index\n",
    "def permutation(x, y) : \n",
    "    mat = torch.cat((x, y), 1)\n",
    "    r = torch.randperm(mat.size()[0])\n",
    "    mat=mat[r]\n",
    "    return mat[:,:-1], mat[:,-1]"
   ]
  },
  {
   "cell_type": "code",
   "execution_count": 20,
   "metadata": {},
   "outputs": [],
   "source": [
    "def trainer (model, input_tensor= input_tensor, input_tensor_test = input_tensor_test, \n",
    "             optimizer = 'SGD', weight_decay= weight_decay,\n",
    "             learning_rate = learning_rate , epochs = epochs,\n",
    "             print_ = True):\n",
    "    \n",
    "    if optimizer =='SGD': \n",
    "        optimizer = torch.optim.SGD (model.parameters(), lr=learning_rate, weight_decay= weight_decay )\n",
    "    if optimizer =='Adam': \n",
    "        optimizer = torch.optim.Adam(model.parameters(), lr=learning_rate, weight_decay= weight_decay)\n",
    "    \n",
    "    \n",
    "    accuracy_list_test  = []\n",
    "    accuracy_list_train = []\n",
    "    epochs_list         = []\n",
    "    result_final_best   = 0\n",
    "    \n",
    "    epoch_5, accuracy_train_5 , accuracy_test_5 =[], [], []\n",
    "    \n",
    "    for epoch in range (0, epochs+1) : \n",
    "        permutation = torch.randperm(input_tensor.size()[0])\n",
    "        permutation_test = torch.randperm(input_tensor_test.size()[0])\n",
    "    \n",
    "        ###Training###\n",
    "    \n",
    "        moved_loss= None\n",
    "    \n",
    "        model.train()\n",
    "\n",
    "        for i in range (0, input_tensor.size()[0], batch_size): \n",
    "            optimizer.zero_grad() # reset process\n",
    "        \n",
    "            index  = permutation[i:i+batch_size] # mixt the input index\n",
    "           \n",
    "            X       = input_tensor[index]  # input of the model of the batch sized\n",
    "            Y_model = model(X)     # result of the model \n",
    "            Y_true  = ground_truth[index]  # ground truth \n",
    "           \n",
    "            loss = cel(Y_model, Y_true)\n",
    "            #moved_loss = (loss.detach() if moved_loss is None else \n",
    "            #         0.2*moved_loss + 0.8*loss.detach())\n",
    "        \n",
    "            #optimizer.zero_grad() # reset process\n",
    "            loss.backward() # compute gradients\n",
    "            optimizer.step() # update parameters\n",
    "  \n",
    "\n",
    "        ###Testing of the performance###\n",
    "        with torch.no_grad():\n",
    "            model.eval()\n",
    "            correct_train = 0\n",
    "            result_train  = 0 \n",
    "        \n",
    "            for j in range (0, input_tensor.size()[0], batch_size): \n",
    "                \n",
    "                index   = permutation[j:j+batch_size]\n",
    "\n",
    "                X_train       = input_tensor[index]\n",
    "            \n",
    "                Y_model_train = model(X_train)\n",
    "                # We get the colomn with the biggest probability \n",
    "                Y_model_train_result = torch.argmax(Y_model_train, dim=1)\n",
    "            \n",
    "                Y_true_train   = ground_truth[index]\n",
    "            \n",
    "                correct_train += torch.sum(Y_model_train_result == Y_true_train).item()\n",
    "                result_train  += len(Y_true_train)\n",
    "        \n",
    "            result_train_final =  correct_train*100/result_train\n",
    "       \n",
    "        with torch.no_grad():\n",
    "            model.eval()\n",
    "            correct_test = 0 \n",
    "            result_test  = 0 \n",
    "        \n",
    "            for k in range (0, input_tensor_test.size()[0], batch_size): \n",
    "\n",
    "                index_test   = permutation_test[k:k+batch_size]\n",
    "\n",
    "                \n",
    "                X_test       = input_tensor_test[index_test]\n",
    "                Y_model_test = model(X_test)\n",
    "                # We get the colomn with the biggest probability \n",
    "                Y_model_test_result = torch.argmax(Y_model_test, dim=1)\n",
    "            \n",
    "                Y_true_test  = ground_truth_test[index_test]\n",
    "                correct_test += torch.sum(Y_model_test_result == Y_true_test).item()\n",
    "                result_test  += len(Y_true_test)\n",
    "            \n",
    "            result_test_final =  correct_test*100/result_test\n",
    "        result_final_best = max(result_test_final, result_final_best)        \n",
    "        accuracy_list_test.append(result_test_final)\n",
    "        accuracy_list_train.append(result_train_final) \n",
    "        epochs_list.append(epoch)\n",
    "    \n",
    "    \n",
    "        if epoch%10 == 0 and print_ == True : \n",
    "                print(\"===============================================\")         \n",
    "                print(f\"Epoch {epoch}\\n-------------------------------\")\n",
    "                print(\"loss training set\", loss,  '\\n', \"Train accuracy\", result_train_final, \n",
    "                  '\\n', \"Test accuracy\", result_test_final)   \n",
    "        if epoch%5 == 0 and print_ == False: \n",
    "                epoch_5.append(epoch)\n",
    "                accuracy_train_5.append(result_train_final)\n",
    "                accuracy_test_5.append(result_test_final)\n",
    "    if print_ == True : \n",
    "        print(\"===============================================\", '\\n')         \n",
    "        print(\"best accuracy test\", result_final_best)\n",
    "    else : \n",
    "        return (epoch_5, accuracy_train_5 , accuracy_test_5)\n",
    "\n",
    "    "
   ]
  },
  {
   "cell_type": "code",
   "execution_count": 21,
   "metadata": {},
   "outputs": [],
   "source": [
    "cel = nn.CrossEntropyLoss()\n",
    "label = ground_truth "
   ]
  },
  {
   "cell_type": "markdown",
   "metadata": {},
   "source": [
    "### Research of the parameter for SGD optimizer"
   ]
  },
  {
   "cell_type": "code",
   "execution_count": 22,
   "metadata": {},
   "outputs": [
    {
     "data": {
      "image/png": "[encoded data removed]",
      "text/plain": [
       "<Figure size 1296x720 with 4 Axes>"
      ]
     },
     "metadata": {
      "needs_background": "light"
     },
     "output_type": "display_data"
    }
   ],
   "source": [
    "## Searching of the best parametters : LEARNING RATE \n",
    "\n",
    "baseline1 = Baseline(d, padding)\n",
    "baseline2 = Baseline(d, padding)\n",
    "baseline3 = Baseline(d, padding)\n",
    "baseline4 = Baseline(d, padding)\n",
    "\n",
    "#SGD\n",
    "x1, y1, yt1 =trainer (baseline1, learning_rate = 0.5 ,  print_ = False)\n",
    "x2, y2, yt2 =trainer (baseline2, learning_rate = 0.1 ,  print_ = False)\n",
    "x3, y3, yt3 =trainer (baseline3, learning_rate = 0.01 , print_ = False)\n",
    "x4, y4, yt4 =trainer (baseline4, learning_rate = 0.001, print_ = False)\n",
    "    \n",
    "\n",
    "fig, ax = plt.subplots(nrows=2, ncols=2, figsize=(18, 10))\n",
    "\n",
    "ax[0,0].plot(x1, y1, label='training')\n",
    "ax[0,0].plot(x1, yt1, label='testing')\n",
    "ax[0,0].set_xlabel('epochs')\n",
    "ax[0,0].set_ylabel('accuracy')\n",
    "ax[0,0].set_title('learning rate of 0.5')\n",
    "ax[0,0].legend()\n",
    "\n",
    "ax[0,1].plot(x2, y2, label='training')\n",
    "ax[0,1].plot(x2, yt2, label='testing')\n",
    "ax[0,1].set_xlabel('epochs')\n",
    "ax[0,1].set_ylabel('accuracy')\n",
    "ax[0,1].set_title('learning rate of 0.1')\n",
    "ax[0,1].legend()\n",
    "\n",
    "ax[1,0].plot(x3, y3, label='training')\n",
    "ax[1,0].plot(x3, yt3, label='testing')\n",
    "ax[1,0].set_xlabel('epochs')\n",
    "ax[1,0].set_ylabel('accuracy')\n",
    "ax[1,0].set_title('learning rate of 0.01')\n",
    "ax[1,0].legend()\n",
    "\n",
    "ax[1,1].plot(x4, y4, label='training')\n",
    "ax[1,1].plot(x4, yt4, label='testing')\n",
    "ax[1,1].set_xlabel('epochs')\n",
    "ax[1,1].set_ylabel('accuracy')\n",
    "ax[1,1].set_title('learning rate of 0.001')\n",
    "ax[1,1].legend()\n",
    "\n",
    "plt.show()"
   ]
  },
  {
   "cell_type": "code",
   "execution_count": 23,
   "metadata": {},
   "outputs": [
    {
     "data": {
      "image/png": "[encoded data removed]",
      "text/plain": [
       "<Figure size 1296x720 with 4 Axes>"
      ]
     },
     "metadata": {
      "needs_background": "light"
     },
     "output_type": "display_data"
    }
   ],
   "source": [
    "## Searching of the best parametters : WEIGHT DECAY \n",
    "\n",
    "baseline1 = Baseline(d, padding)\n",
    "baseline2 = Baseline(d, padding)\n",
    "baseline3 = Baseline(d, padding)\n",
    "baseline4 = Baseline(d, padding)\n",
    "\n",
    "#SGD\n",
    "x1, y1, yt1 =trainer (baseline1, weight_decay = 7e-2 ,learning_rate = 0.1 , epochs = 90, print_ = False)\n",
    "x2, y2, yt2 =trainer (baseline2, weight_decay = 7e-3 ,learning_rate = 0.1 , epochs = 90, print_ = False)\n",
    "x3, y3, yt3 =trainer (baseline3, weight_decay = 7e-4 ,learning_rate = 0.1 , epochs = 90, print_ = False)\n",
    "x4, y4, yt4 =trainer (baseline4, weight_decay = 7e-5 ,learning_rate = 0.1 , epochs = 90, print_ = False)\n",
    "    \n",
    "\n",
    "fig, ax = plt.subplots(nrows=2, ncols=2, figsize=(18, 10))\n",
    "\n",
    "ax[0,0].plot(x1, y1, label='training')\n",
    "ax[0,0].plot(x1, yt1, label='testing')\n",
    "ax[0,0].set_xlabel('epochs')\n",
    "ax[0,0].set_ylabel('accuracy')\n",
    "ax[0,0].set_title('weight decay of 7e-2')\n",
    "ax[0,0].legend()\n",
    "\n",
    "ax[0,1].plot(x2, y2, label='training')\n",
    "ax[0,1].plot(x2, yt2, label='testing')\n",
    "ax[0,1].set_xlabel('epochs')\n",
    "ax[0,1].set_ylabel('accuracy')\n",
    "ax[0,1].set_title('weight decay of 7e-3')\n",
    "ax[0,1].legend()\n",
    "\n",
    "ax[1,0].plot(x3, y3, label='training')\n",
    "ax[1,0].plot(x3, yt3, label='testing')\n",
    "ax[1,0].set_xlabel('epochs')\n",
    "ax[1,0].set_ylabel('accuracy')\n",
    "ax[1,0].set_title('weight decay of 7e-4')\n",
    "ax[1,0].legend()\n",
    "\n",
    "ax[1,1].plot(x4, y4, label='training')\n",
    "ax[1,1].plot(x4, yt4, label='testing')\n",
    "ax[1,1].set_xlabel('epochs')\n",
    "ax[1,1].set_ylabel('accuracy')\n",
    "ax[1,1].set_title('weight decay of 7e-5')\n",
    "ax[1,1].legend()\n",
    "\n",
    "plt.show()"
   ]
  },
  {
   "cell_type": "markdown",
   "metadata": {},
   "source": [
    "### Research of the parameter for ADAM optimizer"
   ]
  },
  {
   "cell_type": "code",
   "execution_count": 24,
   "metadata": {},
   "outputs": [
    {
     "data": {
      "image/png": "[encoded data removed]",
      "text/plain": [
       "<Figure size 1296x720 with 4 Axes>"
      ]
     },
     "metadata": {
      "needs_background": "light"
     },
     "output_type": "display_data"
    }
   ],
   "source": [
    "## Searching of the best parametters : LEARNING RATE\n",
    "x = np.linspace(0.0, 10.0, 1000)\n",
    "y = np.sin(x)\n",
    "baseline1 = Baseline(d, padding)\n",
    "baseline2 = Baseline(d, padding)\n",
    "baseline3 = Baseline(d, padding)\n",
    "baseline4 = Baseline(d, padding)\n",
    "\n",
    "#SGD\n",
    "x1, y1, yt1 =trainer (baseline1, optimizer = 'Adam', learning_rate = 1e-2 ,  print_ = False)\n",
    "x2, y2, yt2 =trainer (baseline2, optimizer = 'Adam', learning_rate = 1e-3,  print_ = False)\n",
    "x3, y3, yt3 =trainer (baseline3, optimizer = 'Adam', learning_rate = 1e-4 , print_ = False)\n",
    "x4, y4, yt4 =trainer (baseline4, optimizer = 'Adam', learning_rate = 1e-5, print_ = False)\n",
    "    \n",
    "\n",
    "fig, ax = plt.subplots(nrows=2, ncols=2, figsize=(18, 10))\n",
    "\n",
    "ax[0,0].plot(x1, y1, label='training')\n",
    "ax[0,0].plot(x1, yt1, label='testing')\n",
    "ax[0,0].set_xlabel('epochs')\n",
    "ax[0,0].set_ylabel('accuracy')\n",
    "ax[0,0].set_title('learning rate of 1e-2')\n",
    "ax[0,0].legend()\n",
    "\n",
    "ax[0,1].plot(x2, y2, label='training')\n",
    "ax[0,1].plot(x2, yt2, label='testing')\n",
    "ax[0,1].set_xlabel('epochs')\n",
    "ax[0,1].set_ylabel('accuracy')\n",
    "ax[0,1].set_title('learning rate of 1e-3')\n",
    "ax[0,1].legend()\n",
    "\n",
    "ax[1,0].plot(x3, y3, label='training')\n",
    "ax[1,0].plot(x3, yt3, label='testing')\n",
    "ax[1,0].set_xlabel('epochs')\n",
    "ax[1,0].set_ylabel('accuracy')\n",
    "ax[1,0].set_title('learning rate of 1e-4')\n",
    "ax[1,0].legend()\n",
    "\n",
    "ax[1,1].plot(x4, y4, label='training')\n",
    "ax[1,1].plot(x4, yt4, label='testing')\n",
    "ax[1,1].set_xlabel('epochs')\n",
    "ax[1,1].set_ylabel('accuracy')\n",
    "ax[1,1].set_title('learning rate of 1e-5')\n",
    "ax[1,1].legend()\n",
    "\n",
    "plt.show()"
   ]
  },
  {
   "cell_type": "code",
   "execution_count": 25,
   "metadata": {},
   "outputs": [
    {
     "data": {
      "image/png": "[encoded data removed]",
      "text/plain": [
       "<Figure size 1296x720 with 4 Axes>"
      ]
     },
     "metadata": {
      "needs_background": "light"
     },
     "output_type": "display_data"
    }
   ],
   "source": [
    "## Searching of the best parametters : WEIGHT DECAY \n",
    "\n",
    "baseline1 = Baseline(d, padding)\n",
    "baseline2 = Baseline(d, padding)\n",
    "baseline3 = Baseline(d, padding)\n",
    "baseline4 = Baseline(d, padding)\n",
    "\n",
    "#SGD\n",
    "x1, y1, yt1 =trainer (baseline1, optimizer = 'Adam', weight_decay = 7e-2 ,learning_rate = 3e-3 , print_ = False)\n",
    "x2, y2, yt2 =trainer (baseline2, optimizer = 'Adam', weight_decay = 7e-3 ,learning_rate = 3e-3 , print_ = False)\n",
    "x3, y3, yt3 =trainer (baseline3, optimizer = 'Adam', weight_decay = 7e-4 ,learning_rate = 3e-3 , print_ = False)\n",
    "x4, y4, yt4 =trainer (baseline4, optimizer = 'Adam', weight_decay = 7e-5 ,learning_rate = 3e-3 , print_ = False)\n",
    "    \n",
    "\n",
    "fig, ax = plt.subplots(nrows=2, ncols=2, figsize=(18, 10))\n",
    "\n",
    "ax[0,0].plot(x1, y1, label='training')\n",
    "ax[0,0].plot(x1, yt1, label='testing')\n",
    "ax[0,0].set_xlabel('epochs')\n",
    "ax[0,0].set_ylabel('accuracy')\n",
    "ax[0,0].set_title('weight decay of 7e-2')\n",
    "ax[0,0].legend()\n",
    "\n",
    "ax[0,1].plot(x2, y2, label='training')\n",
    "ax[0,1].plot(x2, yt2, label='testing')\n",
    "ax[0,1].set_xlabel('epochs')\n",
    "ax[0,1].set_ylabel('accuracy')\n",
    "ax[0,1].set_title('weight decay of 7e-3')\n",
    "ax[0,1].legend()\n",
    "\n",
    "ax[1,0].plot(x3, y3, label='training')\n",
    "ax[1,0].plot(x3, yt3, label='testing')\n",
    "ax[1,0].set_xlabel('epochs')\n",
    "ax[1,0].set_ylabel('accuracy')\n",
    "ax[1,0].set_title('weight decay of 7e-4')\n",
    "ax[1,0].legend()\n",
    "\n",
    "ax[1,1].plot(x4, y4, label='training')\n",
    "ax[1,1].plot(x4, yt4, label='testing')\n",
    "ax[1,1].set_xlabel('epochs')\n",
    "ax[1,1].set_ylabel('accuracy')\n",
    "ax[1,1].set_title('weight decay of 7e-5')\n",
    "ax[1,1].legend()\n",
    "\n",
    "plt.show()"
   ]
  },
  {
   "cell_type": "markdown",
   "metadata": {},
   "source": [
    "### ADAM VS SGD"
   ]
  },
  {
   "cell_type": "code",
   "execution_count": 26,
   "metadata": {
    "scrolled": true
   },
   "outputs": [
    {
     "data": {
      "text/plain": [
       "<matplotlib.legend.Legend at 0x2dc54f3c400>"
      ]
     },
     "execution_count": 26,
     "metadata": {},
     "output_type": "execute_result"
    },
    {
     "data": {
      "image/png": "[encoded data removed]",
      "text/plain": [
       "<Figure size 1296x360 with 2 Axes>"
      ]
     },
     "metadata": {
      "needs_background": "light"
     },
     "output_type": "display_data"
    }
   ],
   "source": [
    "# Comparing to optimizer : SGD vs Adam \n",
    "\n",
    "baseline1 = Baseline(d, padding)\n",
    "baseline2 = Baseline(d, padding)\n",
    "\n",
    "x1, y1, yt1 =trainer (baseline1, weight_decay = 7e-3 ,learning_rate = 0.1 , print_ = False)\n",
    "x2, y2, yt2 =trainer (baseline2, optimizer = 'Adam', \n",
    "                                 weight_decay = 7e-3 ,learning_rate = 1e-3, print_ = False)\n",
    "\n",
    "\n",
    "fig, ax = plt.subplots(nrows=1, ncols=2, figsize=(18, 5))\n",
    "\n",
    "ax[0].plot(x1, y1, label='training')\n",
    "ax[0].plot(x1, yt1, label='testing')\n",
    "ax[0].set_xlabel('epochs')\n",
    "ax[0].set_ylabel('accuracy')\n",
    "ax[0].set_title('Optimizer SGD')\n",
    "ax[0].legend()\n",
    "\n",
    "ax[1].plot(x2, y2, label='training')\n",
    "ax[1].plot(x2, yt2, label='testing')\n",
    "ax[1].set_xlabel('epochs')\n",
    "ax[1].set_ylabel('accuracy')\n",
    "ax[1].set_title('Optimizer Adam')\n",
    "ax[1].legend()\n",
    "\n"
   ]
  },
  {
   "cell_type": "markdown",
   "metadata": {},
   "source": [
    " So with the appropriate parameters, we have a model which reaches an accuracy between 60 and 70% after 100 epochs with both optimizers. Adam optimizer has slightly better results for the testing set and the training set reach almost 100% of accuracy after 100 epochs. "
   ]
  },
  {
   "cell_type": "markdown",
   "metadata": {},
   "source": [
    "# Results : "
   ]
  },
  {
   "cell_type": "code",
   "execution_count": 27,
   "metadata": {},
   "outputs": [
    {
     "name": "stdout",
     "output_type": "stream",
     "text": [
      "===============================================\n",
      "Epoch 0\n",
      "-------------------------------\n",
      "loss training set tensor(0.6960, grad_fn=<NllLossBackward0>) \n",
      " Train accuracy 53.359082397003746 \n",
      " Test accuracy 48.8235294117647\n",
      "===============================================\n",
      "Epoch 10\n",
      "-------------------------------\n",
      "loss training set tensor(0.4982, grad_fn=<NllLossBackward0>) \n",
      " Train accuracy 78.16011235955057 \n",
      " Test accuracy 54.11764705882353\n",
      "===============================================\n",
      "Epoch 20\n",
      "-------------------------------\n",
      "loss training set tensor(0.3839, grad_fn=<NllLossBackward0>) \n",
      " Train accuracy 85.59222846441948 \n",
      " Test accuracy 54.47963800904977\n",
      "===============================================\n",
      "Epoch 30\n",
      "-------------------------------\n",
      "loss training set tensor(0.4391, grad_fn=<NllLossBackward0>) \n",
      " Train accuracy 83.59082397003745 \n",
      " Test accuracy 54.11764705882353\n",
      "===============================================\n",
      "Epoch 40\n",
      "-------------------------------\n",
      "loss training set tensor(0.3589, grad_fn=<NllLossBackward0>) \n",
      " Train accuracy 91.13998127340824 \n",
      " Test accuracy 57.05882352941177\n",
      "===============================================\n",
      "Epoch 50\n",
      "-------------------------------\n",
      "loss training set tensor(0.4010, grad_fn=<NllLossBackward0>) \n",
      " Train accuracy 89.45458801498127 \n",
      " Test accuracy 58.41628959276018\n",
      "===============================================\n",
      "Epoch 60\n",
      "-------------------------------\n",
      "loss training set tensor(0.4095, grad_fn=<NllLossBackward0>) \n",
      " Train accuracy 87.19569288389513 \n",
      " Test accuracy 61.58371040723982\n",
      "===============================================\n",
      "Epoch 70\n",
      "-------------------------------\n",
      "loss training set tensor(0.3997, grad_fn=<NllLossBackward0>) \n",
      " Train accuracy 83.47378277153558 \n",
      " Test accuracy 63.16742081447964\n",
      "===============================================\n",
      "Epoch 80\n",
      "-------------------------------\n",
      "loss training set tensor(0.3516, grad_fn=<NllLossBackward0>) \n",
      " Train accuracy 91.13998127340824 \n",
      " Test accuracy 65.02262443438914\n",
      "===============================================\n",
      "Epoch 90\n",
      "-------------------------------\n",
      "loss training set tensor(0.2489, grad_fn=<NllLossBackward0>) \n",
      " Train accuracy 96.45365168539325 \n",
      " Test accuracy 63.665158371040725\n",
      "===============================================\n",
      "Epoch 100\n",
      "-------------------------------\n",
      "loss training set tensor(0.2483, grad_fn=<NllLossBackward0>) \n",
      " Train accuracy 96.48876404494382 \n",
      " Test accuracy 65.3393665158371\n",
      "=============================================== \n",
      "\n",
      "best accuracy test 65.92760180995475\n"
     ]
    }
   ],
   "source": [
    "# SGD : \n",
    "baseline = Baseline(d, padding, light_vocab)\n",
    "trainer(baseline, input_tensor, weight_decay = 7e-3 ,learning_rate = 0.1)"
   ]
  },
  {
   "cell_type": "code",
   "execution_count": 28,
   "metadata": {},
   "outputs": [
    {
     "name": "stdout",
     "output_type": "stream",
     "text": [
      "===============================================\n",
      "Epoch 0\n",
      "-------------------------------\n",
      "loss training set tensor(0.6918, grad_fn=<NllLossBackward0>) \n",
      " Train accuracy 55.594569288389515 \n",
      " Test accuracy 50.723981900452486\n",
      "===============================================\n",
      "Epoch 10\n",
      "-------------------------------\n",
      "loss training set tensor(0.5329, grad_fn=<NllLossBackward0>) \n",
      " Train accuracy 79.10814606741573 \n",
      " Test accuracy 56.470588235294116\n",
      "===============================================\n",
      "Epoch 20\n",
      "-------------------------------\n",
      "loss training set tensor(0.4020, grad_fn=<NllLossBackward0>) \n",
      " Train accuracy 84.45692883895131 \n",
      " Test accuracy 57.46606334841629\n",
      "===============================================\n",
      "Epoch 30\n",
      "-------------------------------\n",
      "loss training set tensor(0.4018, grad_fn=<NllLossBackward0>) \n",
      " Train accuracy 87.3244382022472 \n",
      " Test accuracy 58.8235294117647\n",
      "===============================================\n",
      "Epoch 40\n",
      "-------------------------------\n",
      "loss training set tensor(0.4286, grad_fn=<NllLossBackward0>) \n",
      " Train accuracy 84.70271535580524 \n",
      " Test accuracy 62.217194570135746\n",
      "===============================================\n",
      "Epoch 50\n",
      "-------------------------------\n",
      "loss training set tensor(0.4514, grad_fn=<NllLossBackward0>) \n",
      " Train accuracy 94.05430711610487 \n",
      " Test accuracy 68.3710407239819\n",
      "===============================================\n",
      "Epoch 60\n",
      "-------------------------------\n",
      "loss training set tensor(0.3443, grad_fn=<NllLossBackward0>) \n",
      " Train accuracy 97.8815543071161 \n",
      " Test accuracy 68.46153846153847\n",
      "===============================================\n",
      "Epoch 70\n",
      "-------------------------------\n",
      "loss training set tensor(0.3044, grad_fn=<NllLossBackward0>) \n",
      " Train accuracy 97.79962546816479 \n",
      " Test accuracy 69.77375565610859\n",
      "===============================================\n",
      "Epoch 80\n",
      "-------------------------------\n",
      "loss training set tensor(0.2563, grad_fn=<NllLossBackward0>) \n",
      " Train accuracy 98.50187265917603 \n",
      " Test accuracy 69.09502262443439\n",
      "===============================================\n",
      "Epoch 90\n",
      "-------------------------------\n",
      "loss training set tensor(0.2721, grad_fn=<NllLossBackward0>) \n",
      " Train accuracy 98.70084269662921 \n",
      " Test accuracy 69.81900452488688\n",
      "===============================================\n",
      "Epoch 100\n",
      "-------------------------------\n",
      "loss training set tensor(0.2628, grad_fn=<NllLossBackward0>) \n",
      " Train accuracy 98.5252808988764 \n",
      " Test accuracy 69.77375565610859\n",
      "=============================================== \n",
      "\n",
      "best accuracy test 70.54298642533936\n"
     ]
    }
   ],
   "source": [
    "baseline = Baseline(d, padding, light_vocab)\n",
    "trainer(baseline, input_tensor,optimizer = 'Adam', weight_decay = 7e-3 ,learning_rate = 1e-3)"
   ]
  },
  {
   "cell_type": "markdown",
   "metadata": {},
   "source": [
    "> **Problem 3.2** *(2 points)* Implement a recurrent neural network (without using PyTorch's RNN module) with `tanh` activation, and use the output of the RNN at the final time step for the classification. Report the model's accuracy on the dev data."
   ]
  },
  {
   "cell_type": "code",
   "execution_count": 29,
   "metadata": {},
   "outputs": [],
   "source": [
    "## A RNN Unit has this equation : ht = tanh ( V*ht-1 + U*xt + b )\n",
    "## We have to define ;  U : xt  --> U*xt + b\n",
    "##                      V : ht-1--> V*ht-1\n",
    "\n",
    "class RNNUnit (nn.Module):\n",
    "    def __init__(self, input_size, hidden_size): \n",
    "        super(RNNUnit, self).__init__()\n",
    "        self.hidden_size = hidden_size        \n",
    "        \n",
    "        #nn.Linear (x_size, y_size) computes xAT + b \n",
    "        self.V = nn.Linear(hidden_size, hidden_size , bias = False) # by default bias = True\n",
    "        self.U = nn.Linear(input_size, hidden_size )  \n",
    "        self.tanh = nn.Tanh()\n",
    "        \n",
    "    def forward (self, h , x) : \n",
    "        h = self.tanh( self.V(h) + self.U(x) )  # <=> ht = tanh ( V*ht-1 + U*xt + b )\n",
    "        return h "
   ]
  },
  {
   "cell_type": "code",
   "execution_count": 30,
   "metadata": {},
   "outputs": [],
   "source": [
    "\n",
    "class RNNLayer(nn.Module):\n",
    "    def __init__(self, rnn_module):\n",
    "        super(RNNLayer, self).__init__()\n",
    "        self.rnn_module  = rnn_module\n",
    "        self.output_size = rnn_module.hidden_size\n",
    "  \n",
    "    def forward(self, input_tensor):\n",
    "        cur_hidden_tensor = torch.zeros(input_tensor.shape[0], self.output_size)\n",
    "        h_list = []\n",
    "        for time_step in range(input_tensor.shape[1]):\n",
    "            cur_input_tensor = input_tensor[:,time_step,: ]\n",
    "            cur_hidden_tensor = self.rnn_module(cur_hidden_tensor, cur_input_tensor)\n",
    "            h_list.append(cur_hidden_tensor)\n",
    "        return torch.stack(h_list, dim=1)\n"
   ]
  },
  {
   "cell_type": "code",
   "execution_count": 31,
   "metadata": {},
   "outputs": [],
   "source": [
    "class RNNBaseline(nn.Module):\n",
    "    def __init__(self, rnn,  d, length, vocab = light_vocab):\n",
    "        super(RNNBaseline, self).__init__()\n",
    "        self.rnn   = rnn\n",
    "        self.embedding = nn.Embedding(len(vocab), d)\n",
    "        self.layer = nn.Linear(d * length, d, bias=True)\n",
    "        self.relu  = nn.ReLU()\n",
    "        self.class_layer = nn.Linear(d, 2, bias=True)\n",
    "\n",
    "    def forward(self, input_tensor):\n",
    "        emb = self.embedding(input_tensor) # [batch_size, length, d]\n",
    "        emb_rnn  = self.rnn.forward(emb)\n",
    "        emb_flat = emb_rnn.view(emb_rnn.size(0), -1) # [batch_size, length*d]\n",
    "        hidden = self.relu(self.layer(emb_flat))\n",
    "        logits = self.class_layer(hidden)        \n",
    "        return logits"
   ]
  },
  {
   "cell_type": "code",
   "execution_count": 32,
   "metadata": {},
   "outputs": [],
   "source": [
    "rnn_unit     = RNNUnit( d, d) #hiden dimention \n",
    "rnn_layer    = RNNLayer (rnn_unit)\n",
    "rnn_baseline = RNNBaseline(rnn_layer, d, padding, light_vocab)"
   ]
  },
  {
   "cell_type": "markdown",
   "metadata": {},
   "source": [
    "### Adam optimizer"
   ]
  },
  {
   "cell_type": "code",
   "execution_count": 33,
   "metadata": {
    "scrolled": true
   },
   "outputs": [
    {
     "name": "stdout",
     "output_type": "stream",
     "text": [
      "===============================================\n",
      "Epoch 0\n",
      "-------------------------------\n",
      "loss training set tensor(0.6979, grad_fn=<NllLossBackward0>) \n",
      " Train accuracy 62.230805243445694 \n",
      " Test accuracy 53.93665158371041\n",
      "===============================================\n",
      "Epoch 10\n",
      "-------------------------------\n",
      "loss training set tensor(0.1406, grad_fn=<NllLossBackward0>) \n",
      " Train accuracy 97.49531835205993 \n",
      " Test accuracy 56.334841628959275\n",
      "===============================================\n",
      "Epoch 20\n",
      "-------------------------------\n",
      "loss training set tensor(0.0516, grad_fn=<NllLossBackward0>) \n",
      " Train accuracy 99.46161048689139 \n",
      " Test accuracy 57.918552036199095\n",
      "===============================================\n",
      "Epoch 30\n",
      "-------------------------------\n",
      "loss training set tensor(0.0304, grad_fn=<NllLossBackward0>) \n",
      " Train accuracy 99.62546816479401 \n",
      " Test accuracy 59.457013574660635\n",
      "===============================================\n",
      "Epoch 40\n",
      "-------------------------------\n",
      "loss training set tensor(0.0991, grad_fn=<NllLossBackward0>) \n",
      " Train accuracy 98.04541198501873 \n",
      " Test accuracy 60.85972850678733\n",
      "===============================================\n",
      "Epoch 50\n",
      "-------------------------------\n",
      "loss training set tensor(0.0558, grad_fn=<NllLossBackward0>) \n",
      " Train accuracy 99.12219101123596 \n",
      " Test accuracy 62.85067873303167\n",
      "===============================================\n",
      "Epoch 60\n",
      "-------------------------------\n",
      "loss training set tensor(0.0124, grad_fn=<NllLossBackward0>) \n",
      " Train accuracy 99.69569288389513 \n",
      " Test accuracy 65.3393665158371\n",
      "===============================================\n",
      "Epoch 70\n",
      "-------------------------------\n",
      "loss training set tensor(0.0146, grad_fn=<NllLossBackward0>) \n",
      " Train accuracy 99.71910112359551 \n",
      " Test accuracy 65.92760180995475\n",
      "===============================================\n",
      "Epoch 80\n",
      "-------------------------------\n",
      "loss training set tensor(0.0096, grad_fn=<NllLossBackward0>) \n",
      " Train accuracy 99.68398876404494 \n",
      " Test accuracy 66.47058823529412\n",
      "===============================================\n",
      "Epoch 90\n",
      "-------------------------------\n",
      "loss training set tensor(0.0143, grad_fn=<NllLossBackward0>) \n",
      " Train accuracy 99.57865168539325 \n",
      " Test accuracy 66.38009049773756\n",
      "===============================================\n",
      "Epoch 100\n",
      "-------------------------------\n",
      "loss training set tensor(0.1050, grad_fn=<NllLossBackward0>) \n",
      " Train accuracy 98.74765917602996 \n",
      " Test accuracy 63.93665158371041\n",
      "=============================================== \n",
      "\n",
      "best accuracy test 67.51131221719457\n"
     ]
    }
   ],
   "source": [
    "trainer(rnn_baseline, input_tensor, optimizer = 'Adam', weight_decay = 7e-4 ,learning_rate = 1e-3)"
   ]
  },
  {
   "cell_type": "markdown",
   "metadata": {},
   "source": [
    "## SGD optimier "
   ]
  },
  {
   "cell_type": "raw",
   "metadata": {},
   "source": [
    "# Saved good result : (obtained with SGD, learning rate =1e-3 , weight decay = 7e-4) \n",
    "\n",
    "# trainer(rnn_baseline, input_tensor) \n",
    "=============================================== \n",
    "\n",
    "Epoch 0\n",
    "-------------------------------\n",
    "loss training set tensor(0.6846, grad_fn=<NllLossBackward0>) \n",
    " Train accuracy 52.44616104868914 \n",
    " Test accuracy 52.081447963800905\n",
    "=============================================== \n",
    "\n",
    "Epoch 10\n",
    "-------------------------------\n",
    "loss training set tensor(0.6739, grad_fn=<NllLossBackward0>) \n",
    " Train accuracy 62.60533707865169 \n",
    " Test accuracy 55.83710407239819\n",
    "=============================================== \n",
    "\n",
    "Epoch 20\n",
    "-------------------------------\n",
    "loss training set tensor(0.6392, grad_fn=<NllLossBackward0>) \n",
    " Train accuracy 67.0880149812734 \n",
    " Test accuracy 55.61085972850679\n",
    "=============================================== \n",
    "\n",
    "Epoch 30\n",
    "-------------------------------\n",
    "loss training set tensor(0.6158, grad_fn=<NllLossBackward0>) \n",
    " Train accuracy 71.65262172284645 \n",
    " Test accuracy 57.14932126696833\n",
    "=============================================== \n",
    "\n",
    "Epoch 40\n",
    "-------------------------------\n",
    "loss training set tensor(0.5604, grad_fn=<NllLossBackward0>) \n",
    " Train accuracy 75.57350187265918 \n",
    " Test accuracy 56.9683257918552\n",
    "=============================================== \n",
    "\n",
    "Epoch 50\n",
    "-------------------------------\n",
    "loss training set tensor(0.4447, grad_fn=<NllLossBackward0>) \n",
    " Train accuracy 79.7869850187266 \n",
    " Test accuracy 56.289592760180994\n",
    "=============================================== \n",
    "\n",
    "Epoch 60\n",
    "-------------------------------\n",
    "loss training set tensor(0.4169, grad_fn=<NllLossBackward0>) \n",
    " Train accuracy 84.08239700374531 \n",
    " Test accuracy 57.28506787330317\n",
    "=============================================== \n",
    "\n",
    "Epoch 70\n",
    "-------------------------------\n",
    "loss training set tensor(0.4171, grad_fn=<NllLossBackward0>) \n",
    " Train accuracy 88.17883895131087 \n",
    " Test accuracy 57.23981900452489\n",
    "=============================================== \n",
    "\n",
    "Epoch 80\n",
    "-------------------------------\n",
    "loss training set tensor(0.3808, grad_fn=<NllLossBackward0>) \n",
    " Train accuracy 87.52340823970037 \n",
    " Test accuracy 56.01809954751131\n",
    "=============================================== \n",
    "\n",
    "Epoch 90\n",
    "-------------------------------\n",
    "loss training set tensor(0.2775, grad_fn=<NllLossBackward0>) \n",
    " Train accuracy 92.81367041198502 \n",
    " Test accuracy 58.05429864253394\n",
    "=============================================== \n",
    "\n",
    "Epoch 100\n",
    "-------------------------------\n",
    "loss training set tensor(0.2773, grad_fn=<NllLossBackward0>) \n",
    " Train accuracy 94.66292134831461 \n",
    " Test accuracy 57.28506787330317\n",
    "=============================================== \n",
    "\n",
    "best accuracy test 58.1447963800905"
   ]
  },
  {
   "cell_type": "code",
   "execution_count": 34,
   "metadata": {},
   "outputs": [
    {
     "name": "stdout",
     "output_type": "stream",
     "text": [
      "===============================================\n",
      "Epoch 0\n",
      "-------------------------------\n",
      "loss training set tensor(0.6963, grad_fn=<NllLossBackward0>) \n",
      " Train accuracy 53.616573033707866 \n",
      " Test accuracy 47.782805429864254\n",
      "===============================================\n",
      "Epoch 10\n",
      "-------------------------------\n",
      "loss training set tensor(0.5749, grad_fn=<NllLossBackward0>) \n",
      " Train accuracy 80.12640449438203 \n",
      " Test accuracy 54.977375565610856\n",
      "===============================================\n",
      "Epoch 20\n",
      "-------------------------------\n",
      "loss training set tensor(0.4407, grad_fn=<NllLossBackward0>) \n",
      " Train accuracy 88.47144194756554 \n",
      " Test accuracy 55.339366515837106\n",
      "===============================================\n",
      "Epoch 30\n",
      "-------------------------------\n",
      "loss training set tensor(0.4194, grad_fn=<NllLossBackward0>) \n",
      " Train accuracy 88.65870786516854 \n",
      " Test accuracy 54.886877828054295\n",
      "===============================================\n",
      "Epoch 40\n",
      "-------------------------------\n",
      "loss training set tensor(0.4590, grad_fn=<NllLossBackward0>) \n",
      " Train accuracy 89.8057116104869 \n",
      " Test accuracy 57.33031674208145\n",
      "===============================================\n",
      "Epoch 50\n",
      "-------------------------------\n",
      "loss training set tensor(0.4327, grad_fn=<NllLossBackward0>) \n",
      " Train accuracy 82.74812734082397 \n",
      " Test accuracy 57.782805429864254\n",
      "===============================================\n",
      "Epoch 60\n",
      "-------------------------------\n",
      "loss training set tensor(0.4565, grad_fn=<NllLossBackward0>) \n",
      " Train accuracy 85.94335205992509 \n",
      " Test accuracy 60.27149321266968\n",
      "===============================================\n",
      "Epoch 70\n",
      "-------------------------------\n",
      "loss training set tensor(0.6625, grad_fn=<NllLossBackward0>) \n",
      " Train accuracy 64.66526217228464 \n",
      " Test accuracy 52.80542986425339\n",
      "===============================================\n",
      "Epoch 80\n",
      "-------------------------------\n",
      "loss training set tensor(0.4373, grad_fn=<NllLossBackward0>) \n",
      " Train accuracy 84.25795880149813 \n",
      " Test accuracy 57.10407239819005\n",
      "===============================================\n",
      "Epoch 90\n",
      "-------------------------------\n",
      "loss training set tensor(0.2385, grad_fn=<NllLossBackward0>) \n",
      " Train accuracy 94.72144194756554 \n",
      " Test accuracy 59.18552036199095\n",
      "===============================================\n",
      "Epoch 100\n",
      "-------------------------------\n",
      "loss training set tensor(0.6917, grad_fn=<NllLossBackward0>) \n",
      " Train accuracy 50.327715355805246 \n",
      " Test accuracy 48.28054298642534\n",
      "=============================================== \n",
      "\n",
      "best accuracy test 63.84615384615385\n"
     ]
    }
   ],
   "source": [
    "rnn_unit2     = RNNUnit( d, d) #hiden dimention \n",
    "rnn_layer2    = RNNLayer (rnn_unit)\n",
    "rnn_baseline2 = RNNBaseline(rnn_layer, d, padding, light_vocab)\n",
    "\n",
    "trainer(rnn_baseline2, input_tensor, weight_decay = 7e-3 ,learning_rate = 0.1)"
   ]
  },
  {
   "cell_type": "markdown",
   "metadata": {},
   "source": [
    "> **Problem 3.3** *(2 points)* Show that the cross entropy computed above is equivalent to the negative log likelihood of the probability distribution.\n",
    "\n",
    "> We take a discrete pobality distribution, $\\displaystyle{X}$ be a discrete random variable with probability mass function $\\displaystyle {p}$ depending on a parameter $\\displaystyle {\\theta }$. \n",
    ">Then the function\n",
    ">\n",
    ">$$\\mathcal {L} (\\theta \\mid x)=p_{\\theta }(x)=P_{\\theta }(X=x) = P(X| \\theta = x) $$\n",
    ">\n",
    ">is the likelihood function, given the outcome $\\displaystyle x$ of the random variable $\\displaystyle X$.  The likelihood is equal to the probability that a particular outcome $\\displaystyle x$ is observed when the true value of the parameter is >$\\displaystyle \\theta $. \n",
    ">\n",
    ">If we represent the actual observation for N observations with one-hot encoding (i.e., the $j^{th}$ element is 1 and all other elements are 0 when we observe the $j^th$ outcome), then the likelihood of the same single observation can be represented as : \n",
    ">$$P(x_1, ... , x_n | \\theta) = \\prod_{j=1}^N P({x}_{j}|\\theta)(\\text{ independence of the samples} $$\n",
    ">\n",
    "> We put a log on the above equation, and we first added a normalization factor 1/m in front, then we switch the summation from being “over the individual sample” to “over each distinct values of the sample space”. So we got : \n",
    ">\n",
    ">$$ -\\frac{1}{m}\\sum_{j=1}^m log P(x_j|w) = - \\sum_{j=1}^m p(x_i) log P(x_j|w)$$ \n",
    ">\n",
    "> On the other hand, the expression for the cross entropy is , for $f$ and $g$ two probality density fonctions : \n",
    ">\n",
    ">$$ H (p,q) = \\sum_{i=1}^N p(x_i) log (\\frac{1}{q(x_i)}) = - \\sum p(x_i) log(q(x_i))$$\n",
    ">\n",
    ">So \n",
    ">\n",
    ">$$ - \\sum_{j=1}^m p(x_i) log P(x_j|w) =  - \\sum_{j=1}^m p(x_i) log q(x_i)$$ \n",
    ">\n",
    ">In this sense, we have gone back from likelihood to probability. And we see that NNL is the same as cross entropy.\n",
    "\n",
    "\n",
    "> **Problem 3.4** *(1 points)* Why is it numerically unstable if you compute log on top of softmax?\n",
    "\n",
    "\n",
    ">The softmax is defined, with  $ n = [[1,N]] \\text{ and } x = (x_1, ...,  x_n) \\in {R}^n.$\n",
    "> $$   \\sigma(\\textbf{x})_n = \\frac{e^{x_n}}{\\sum_{i=1}^N e^{x_i}} $$\n",
    ">\n",
    ">     \n",
    "> Let $\\theta$ is the maximum value of elements in $x$, which means,\n",
    "$$ \\theta = \\max_{ i \\in [1, N]} x_i. $$\n",
    "> Then, $x$ can be written as:\n",
    ">$$\n",
    "     \\begin{align*}\n",
    "        \\begin{split}\n",
    "         x&= (x_1, ..., x_n) \\\\\n",
    "         &= \\left(\\theta + (x_1 - \\theta), ..., \\theta + (x_n - \\theta)\\right).\n",
    "       \\end{split}  \n",
    "    \\end{align*}\n",
    "$$\n",
    "> The log of the softmax $x$ can be computed as:\n",
    ">\n",
    ">\\begin{align*}\n",
    "   \\begin {split}     \n",
    "        \\log(\\sigma(x))\n",
    "         &= \\log\\left(\\frac{e^{x_1}}{\\sum_{i=1}^K e^{x_i}}, ..., \\frac{e^{x_N}}{\\sum_{i=1}^N e^{z_i}}\\right) \\\\\n",
    "         &= \\log\\left(\\frac{e^{x_1 - \\theta}}{\\sum_{i=1}^N e^{x_i - \\theta}}, ..., \\frac{e^{x_N - \\theta}}{\\sum_{i=1}^N e^{x_i - \\theta}}\\right) \\\\\n",
    "         &= \\left(\\log\\frac{e^{x_1 - \\theta}}{\\sum_{i=1}^N e^{x_i - \\theta}}, ..., \\log\\frac{e^{x_N - \\theta}}{\\sum_{i=1}^N e^{x_i - \\theta}}\\right).\n",
    "    \\end{split}       \n",
    "\\end{align*}\n",
    ">\n",
    "> Then we search for $\\lambda$, the smaller elements in $x$: \n",
    "> $$ \\lambda = \\min_{ j \\in [1, N] } x_j. $$\n",
    "> Then, as $\\lambda - \\theta \\to -\\infty$, $e^{\\lambda-\\theta} \\to 0$ and $\\frac{e^{\\lambda-\\theta}}{\\sum_{i=1}^N e^{x_i - \\theta}} \\to 0$.\n",
    "> This gives $\\log\\frac{e^{\\lambda-\\theta}}{\\sum_{i=1}^N e^{x_i - \\theta}} \\to -\\infty$ in the result of the log of the softmax $x$, which makes numerically unstable."
   ]
  },
  {
   "cell_type": "markdown",
   "metadata": {
    "id": "PBLmpKJRAd1h"
   },
   "source": [
    "## 4. Text Classification with LSTM and Dropout\n",
    "\n",
    "Replace your RNN module with an LSTM module. See Lecture slides 05 and 06 for the formal definition of LSTMs. \n",
    "\n",
    "You will also use Dropout, which randomly makes each dimension zero with the probability of `p` and scale it by `1/(1-p)` if it is not zero during training. Put it either at the input or the output of the LSTM to prevent it from overfitting."
   ]
  },
  {
   "cell_type": "raw",
   "metadata": {
    "id": "R8H0F-csCCk0"
   },
   "source": [
    "a = torch.FloatTensor([0.1, 0.3, 0.5, 0.7, 0.9])\n",
    "dropout = nn.Dropout(0.5) # p=0.5\n",
    "print(dropout(a))"
   ]
  },
  {
   "cell_type": "markdown",
   "metadata": {
    "id": "G6boSxKjC4Mw"
   },
   "source": [
    "> **Problem 4.1** *(2 points)* Implement and use LSTM (without using PyTorch's LSTM module) instead of vanilla RNN. Report the accuracy on the dev data."
   ]
  },
  {
   "cell_type": "code",
   "execution_count": 35,
   "metadata": {},
   "outputs": [],
   "source": [
    "class LSTMUnit(nn.Module):\n",
    "    def __init__(self, d):\n",
    "        super(LSTMUnit, self).__init__()\n",
    "        self.linear  = nn.Linear(2*d , 4*d, bias=True) \n",
    "        self.sigmoid = nn.Sigmoid()\n",
    "        self.tanh    = nn.Tanh()\n",
    "        self.output_size = 2 * d # hidden state and memory state are concatenated\n",
    "  \n",
    "    def forward(self, prev_hidden_tensor, input_tensor):\n",
    "        prev_h, prev_c = prev_hidden_tensor.chunk(2, -1)\n",
    "        tensor = torch.cat([prev_h, input_tensor], dim=-1)\n",
    "        tensor = self.linear(tensor)\n",
    "        input_, forget, output, cand_c = tensor.chunk(4, -1)\n",
    "        input_ = self.sigmoid(input_)\n",
    "        forget = self.sigmoid(forget)\n",
    "        output = self.sigmoid(output)\n",
    "        cand_c = self.tanh(cand_c)\n",
    "\n",
    "        cur_c =  forget*prev_c + input_*cand_c # ct = ft * ct-1 + it * c_eval_t \n",
    "        cur_h = output * self.tanh(cur_c)\n",
    "        return torch.cat([cur_h, cur_c], -1)"
   ]
  },
  {
   "cell_type": "code",
   "execution_count": 36,
   "metadata": {},
   "outputs": [],
   "source": [
    "class LTSMLayer(nn.Module):\n",
    "    \n",
    "    def __init__(self, ltsm_module):\n",
    "        super(LTSMLayer, self).__init__()\n",
    "        self.ltsm_module = ltsm_module\n",
    "        self.output_size = ltsm_module.output_size\n",
    "        \n",
    "  \n",
    "    def forward(self, input_tensor):\n",
    "        cur_hidden_tensor = torch.zeros(input_tensor.shape[0], self.output_size)\n",
    "        h_list = []\n",
    "        for time_step in range(input_tensor.shape[1]):\n",
    "            cur_input_tensor  =  input_tensor[:,time_step,: ]\n",
    "            cur_hidden_tensor = self.ltsm_module(cur_hidden_tensor, cur_input_tensor)\n",
    "            h, c = cur_hidden_tensor.chunk(2, -1)\n",
    "            h_list.append(h)\n",
    "    \n",
    "        return torch.stack(h_list, dim=1)"
   ]
  },
  {
   "cell_type": "code",
   "execution_count": 37,
   "metadata": {},
   "outputs": [],
   "source": [
    "class LTSMBaseline(nn.Module):\n",
    "    def __init__(self, ltsm,  d, length, vocab, drop):\n",
    "        super(LTSMBaseline, self).__init__()\n",
    "        self.ltsm = ltsm\n",
    "        self.embedding = nn.Embedding(len(vocab), d)\n",
    "        self.layer = nn.Linear(d * length, d, bias=True)\n",
    "        self.relu = nn.ReLU()\n",
    "        self.class_layer = nn.Linear(d, 2, bias=True)\n",
    "        self.dropout = nn.Dropout(drop)\n",
    "        self.drop = drop \n",
    "\n",
    "    def forward(self, input_tensor):\n",
    "        emb = self.embedding(input_tensor) # [batch_size, length, d]\n",
    "        emb_ltsm = self.ltsm.forward(emb)\n",
    "        if self.drop != 0 : \n",
    "            emb_ltsm_drop = self.dropout(emb_ltsm)\n",
    "            emb_flat = emb_ltsm_drop.view(emb_ltsm_drop.size(0), -1) # [batch_size, length*d]\n",
    "            hidden = self.relu(self.layer(emb_flat))\n",
    "            logits = self.class_layer(hidden) \n",
    "        else : \n",
    "            emb_flat = emb_ltsm.view(emb_ltsm.size(0), -1) # [batch_size, length*d]\n",
    "            hidden = self.relu(self.layer(emb_flat))\n",
    "            logits = self.class_layer(hidden)        \n",
    "        return logits\n",
    "    "
   ]
  },
  {
   "cell_type": "markdown",
   "metadata": {},
   "source": [
    "## SGD Optimizer "
   ]
  },
  {
   "cell_type": "code",
   "execution_count": 38,
   "metadata": {
    "scrolled": true
   },
   "outputs": [
    {
     "name": "stdout",
     "output_type": "stream",
     "text": [
      "===============================================\n",
      "Epoch 0\n",
      "-------------------------------\n",
      "loss training set tensor(0.6940, grad_fn=<NllLossBackward0>) \n",
      " Train accuracy 50.57350187265918 \n",
      " Test accuracy 50.452488687782804\n",
      "===============================================\n",
      "Epoch 10\n",
      "-------------------------------\n",
      "loss training set tensor(0.6895, grad_fn=<NllLossBackward0>) \n",
      " Train accuracy 55.17322097378277 \n",
      " Test accuracy 54.57013574660633\n",
      "===============================================\n",
      "Epoch 20\n",
      "-------------------------------\n",
      "loss training set tensor(0.6884, grad_fn=<NllLossBackward0>) \n",
      " Train accuracy 57.86516853932584 \n",
      " Test accuracy 55.65610859728507\n",
      "===============================================\n",
      "Epoch 30\n",
      "-------------------------------\n",
      "loss training set tensor(0.6809, grad_fn=<NllLossBackward0>) \n",
      " Train accuracy 58.813202247191015 \n",
      " Test accuracy 56.199095022624434\n",
      "===============================================\n",
      "Epoch 40\n",
      "-------------------------------\n",
      "loss training set tensor(0.6820, grad_fn=<NllLossBackward0>) \n",
      " Train accuracy 59.515449438202246 \n",
      " Test accuracy 57.28506787330317\n",
      "===============================================\n",
      "Epoch 50\n",
      "-------------------------------\n",
      "loss training set tensor(0.6779, grad_fn=<NllLossBackward0>) \n",
      " Train accuracy 60.17088014981273 \n",
      " Test accuracy 57.51131221719457\n",
      "===============================================\n",
      "Epoch 60\n",
      "-------------------------------\n",
      "loss training set tensor(0.6675, grad_fn=<NllLossBackward0>) \n",
      " Train accuracy 61.54026217228464 \n",
      " Test accuracy 58.09954751131222\n",
      "===============================================\n",
      "Epoch 70\n",
      "-------------------------------\n",
      "loss training set tensor(0.6373, grad_fn=<NllLossBackward0>) \n",
      " Train accuracy 61.41151685393258 \n",
      " Test accuracy 58.8235294117647\n",
      "===============================================\n",
      "Epoch 80\n",
      "-------------------------------\n",
      "loss training set tensor(0.6584, grad_fn=<NllLossBackward0>) \n",
      " Train accuracy 63.27247191011236 \n",
      " Test accuracy 57.963800904977376\n",
      "===============================================\n",
      "Epoch 90\n",
      "-------------------------------\n",
      "loss training set tensor(0.6436, grad_fn=<NllLossBackward0>) \n",
      " Train accuracy 62.97986891385768 \n",
      " Test accuracy 58.68778280542986\n",
      "===============================================\n",
      "Epoch 100\n",
      "-------------------------------\n",
      "loss training set tensor(0.6218, grad_fn=<NllLossBackward0>) \n",
      " Train accuracy 64.7940074906367 \n",
      " Test accuracy 58.09954751131222\n",
      "=============================================== \n",
      "\n",
      "best accuracy test 59.276018099547514\n"
     ]
    }
   ],
   "source": [
    "ltsm_unit = LSTMUnit(d)\n",
    "ltsm_layer = LTSMLayer(ltsm_unit)\n",
    "ltsm_baseline = LTSMBaseline(ltsm_layer, d, length, light_vocab, drop=0)\n",
    "trainer(ltsm_baseline, input_tensor)"
   ]
  },
  {
   "cell_type": "raw",
   "metadata": {},
   "source": [
    "Saved good result : (SGD) \n",
    "=============================================== \n",
    "\n",
    "Epoch 0\n",
    "-------------------------------\n",
    "loss training set tensor(0.6967, grad_fn=<NllLossBackward0>) \n",
    " Train accuracy 50.44475655430712 \n",
    " Test accuracy 50.99547511312217\n",
    "=============================================== \n",
    "\n",
    "Epoch 10\n",
    "-------------------------------\n",
    "loss training set tensor(0.6917, grad_fn=<NllLossBackward0>) \n",
    " Train accuracy 53.92088014981273 \n",
    " Test accuracy 54.11764705882353\n",
    "=============================================== \n",
    "\n",
    "Epoch 20\n",
    "-------------------------------\n",
    "loss training set tensor(0.6899, grad_fn=<NllLossBackward0>) \n",
    " Train accuracy 57.291666666666664 \n",
    " Test accuracy 55.38461538461539\n",
    "=============================================== \n",
    "\n",
    "Epoch 30\n",
    "-------------------------------\n",
    "loss training set tensor(0.6821, grad_fn=<NllLossBackward0>) \n",
    " Train accuracy 57.45552434456929 \n",
    " Test accuracy 55.203619909502265\n",
    "=============================================== \n",
    "\n",
    "Epoch 40\n",
    "-------------------------------\n",
    "loss training set tensor(0.6730, grad_fn=<NllLossBackward0>) \n",
    " Train accuracy 59.199438202247194 \n",
    " Test accuracy 56.334841628959275\n",
    "=============================================== \n",
    "\n",
    "Epoch 50\n",
    "-------------------------------\n",
    "loss training set tensor(0.6696, grad_fn=<NllLossBackward0>) \n",
    " Train accuracy 60.24110486891386 \n",
    " Test accuracy 56.289592760180994\n",
    "=============================================== \n",
    "\n",
    "Epoch 60\n",
    "-------------------------------\n",
    "loss training set tensor(0.6847, grad_fn=<NllLossBackward0>) \n",
    " Train accuracy 61.2125468164794 \n",
    " Test accuracy 57.14932126696833\n",
    "=============================================== \n",
    "\n",
    "Epoch 70\n",
    "-------------------------------\n",
    "loss training set tensor(0.6889, grad_fn=<NllLossBackward0>) \n",
    " Train accuracy 61.96161048689139 \n",
    " Test accuracy 57.42081447963801\n",
    "=============================================== \n",
    "\n",
    "Epoch 80\n",
    "-------------------------------\n",
    "loss training set tensor(0.6449, grad_fn=<NllLossBackward0>) \n",
    " Train accuracy 63.3309925093633 \n",
    " Test accuracy 57.963800904977376\n",
    "=============================================== \n",
    "\n",
    "Epoch 90\n",
    "-------------------------------\n",
    "loss training set tensor(0.6392, grad_fn=<NllLossBackward0>) \n",
    " Train accuracy 63.91619850187266 \n",
    " Test accuracy 58.46153846153846\n",
    "=============================================== \n",
    "\n",
    "Epoch 100\n",
    "-------------------------------\n",
    "loss training set tensor(0.5950, grad_fn=<NllLossBackward0>) \n",
    " Train accuracy 65.08661048689139 \n",
    " Test accuracy 58.68778280542986\n",
    "=============================================== \n",
    "\n",
    "best accuracy test 58.73303167420814"
   ]
  },
  {
   "cell_type": "markdown",
   "metadata": {},
   "source": [
    "## ADAM Optimizer "
   ]
  },
  {
   "cell_type": "code",
   "execution_count": 39,
   "metadata": {},
   "outputs": [
    {
     "name": "stdout",
     "output_type": "stream",
     "text": [
      "===============================================\n",
      "Epoch 0\n",
      "-------------------------------\n",
      "loss training set tensor(0.6880, grad_fn=<NllLossBackward0>) \n",
      " Train accuracy 52.03651685393258 \n",
      " Test accuracy 49.14027149321267\n",
      "===============================================\n",
      "Epoch 10\n",
      "-------------------------------\n",
      "loss training set tensor(0.4350, grad_fn=<NllLossBackward0>) \n",
      " Train accuracy 89.11516853932584 \n",
      " Test accuracy 62.48868778280543\n",
      "===============================================\n",
      "Epoch 20\n",
      "-------------------------------\n",
      "loss training set tensor(0.1134, grad_fn=<NllLossBackward0>) \n",
      " Train accuracy 97.90496254681648 \n",
      " Test accuracy 63.484162895927604\n",
      "===============================================\n",
      "Epoch 30\n",
      "-------------------------------\n",
      "loss training set tensor(0.0780, grad_fn=<NllLossBackward0>) \n",
      " Train accuracy 99.37968164794007 \n",
      " Test accuracy 65.88235294117646\n",
      "===============================================\n",
      "Epoch 40\n",
      "-------------------------------\n",
      "loss training set tensor(0.0380, grad_fn=<NllLossBackward0>) \n",
      " Train accuracy 99.00514981273409 \n",
      " Test accuracy 68.00904977375566\n",
      "===============================================\n",
      "Epoch 50\n",
      "-------------------------------\n",
      "loss training set tensor(0.0502, grad_fn=<NllLossBackward0>) \n",
      " Train accuracy 99.05196629213484 \n",
      " Test accuracy 68.86877828054298\n",
      "===============================================\n",
      "Epoch 60\n",
      "-------------------------------\n",
      "loss training set tensor(0.0359, grad_fn=<NllLossBackward0>) \n",
      " Train accuracy 99.29775280898876 \n",
      " Test accuracy 69.27601809954751\n",
      "===============================================\n",
      "Epoch 70\n",
      "-------------------------------\n",
      "loss training set tensor(0.0206, grad_fn=<NllLossBackward0>) \n",
      " Train accuracy 99.40308988764045 \n",
      " Test accuracy 69.72850678733032\n",
      "===============================================\n",
      "Epoch 80\n",
      "-------------------------------\n",
      "loss training set tensor(0.0103, grad_fn=<NllLossBackward0>) \n",
      " Train accuracy 99.62546816479401 \n",
      " Test accuracy 71.4027149321267\n",
      "===============================================\n",
      "Epoch 90\n",
      "-------------------------------\n",
      "loss training set tensor(0.0321, grad_fn=<NllLossBackward0>) \n",
      " Train accuracy 99.36797752808988 \n",
      " Test accuracy 71.71945701357465\n",
      "===============================================\n",
      "Epoch 100\n",
      "-------------------------------\n",
      "loss training set tensor(0.1228, grad_fn=<NllLossBackward0>) \n",
      " Train accuracy 98.88810861423221 \n",
      " Test accuracy 70.13574660633485\n",
      "=============================================== \n",
      "\n",
      "best accuracy test 71.71945701357465\n"
     ]
    }
   ],
   "source": [
    "ltsm_unit2     = LSTMUnit(d)\n",
    "ltsm_layer2    = LTSMLayer(ltsm_unit)\n",
    "ltsm_baseline2 = LTSMBaseline(ltsm_layer, d, length, light_vocab, drop=0)\n",
    "trainer(ltsm_baseline2, input_tensor, optimizer = 'Adam', weight_decay = 7e-4 ,learning_rate = 1e-3)"
   ]
  },
  {
   "cell_type": "markdown",
   "metadata": {},
   "source": [
    "> **Problem 4.2** *(2 points)* Use Dropout on LSTM (either at input or output). Report the accuracy on the dev data."
   ]
  },
  {
   "cell_type": "code",
   "execution_count": 42,
   "metadata": {},
   "outputs": [],
   "source": [
    "ltsm_unit_dropout     = LSTMUnit(d)\n",
    "ltsm_layer_dropout    = LTSMLayer(ltsm_unit)\n",
    "ltsm_baseline_dropout = LTSMBaseline(ltsm_layer, d, length, light_vocab,  drop= 0.3)"
   ]
  },
  {
   "cell_type": "code",
   "execution_count": 43,
   "metadata": {},
   "outputs": [
    {
     "name": "stdout",
     "output_type": "stream",
     "text": [
      "===============================================\n",
      "Epoch 0\n",
      "-------------------------------\n",
      "loss training set tensor(0.6972, grad_fn=<NllLossBackward0>) \n",
      " Train accuracy 53.967696629213485 \n",
      " Test accuracy 50.76923076923077\n",
      "===============================================\n",
      "Epoch 10\n",
      "-------------------------------\n",
      "loss training set tensor(0.6728, grad_fn=<NllLossBackward0>) \n",
      " Train accuracy 60.04213483146067 \n",
      " Test accuracy 56.92307692307692\n",
      "===============================================\n",
      "Epoch 20\n",
      "-------------------------------\n",
      "loss training set tensor(0.6627, grad_fn=<NllLossBackward0>) \n",
      " Train accuracy 60.39325842696629 \n",
      " Test accuracy 54.977375565610856\n",
      "===============================================\n",
      "Epoch 30\n",
      "-------------------------------\n",
      "loss training set tensor(0.6521, grad_fn=<NllLossBackward0>) \n",
      " Train accuracy 59.702715355805246 \n",
      " Test accuracy 58.64253393665158\n",
      "===============================================\n",
      "Epoch 40\n",
      "-------------------------------\n",
      "loss training set tensor(0.6209, grad_fn=<NllLossBackward0>) \n",
      " Train accuracy 60.35814606741573 \n",
      " Test accuracy 59.90950226244344\n",
      "===============================================\n",
      "Epoch 50\n",
      "-------------------------------\n",
      "loss training set tensor(0.6910, grad_fn=<NllLossBackward0>) \n",
      " Train accuracy 62.230805243445694 \n",
      " Test accuracy 58.73303167420814\n",
      "===============================================\n",
      "Epoch 60\n",
      "-------------------------------\n",
      "loss training set tensor(0.7325, grad_fn=<NllLossBackward0>) \n",
      " Train accuracy 54.71676029962547 \n",
      " Test accuracy 51.76470588235294\n",
      "===============================================\n",
      "Epoch 70\n",
      "-------------------------------\n",
      "loss training set tensor(0.6604, grad_fn=<NllLossBackward0>) \n",
      " Train accuracy 59.71441947565543 \n",
      " Test accuracy 56.470588235294116\n",
      "===============================================\n",
      "Epoch 80\n",
      "-------------------------------\n",
      "loss training set tensor(0.5732, grad_fn=<NllLossBackward0>) \n",
      " Train accuracy 66.94756554307116 \n",
      " Test accuracy 62.76018099547511\n",
      "===============================================\n",
      "Epoch 90\n",
      "-------------------------------\n",
      "loss training set tensor(0.6034, grad_fn=<NllLossBackward0>) \n",
      " Train accuracy 69.10112359550561 \n",
      " Test accuracy 65.61085972850678\n",
      "===============================================\n",
      "Epoch 100\n",
      "-------------------------------\n",
      "loss training set tensor(0.5681, grad_fn=<NllLossBackward0>) \n",
      " Train accuracy 67.77855805243446 \n",
      " Test accuracy 62.262443438914026\n",
      "=============================================== \n",
      "\n",
      "best accuracy test 67.42081447963801\n"
     ]
    }
   ],
   "source": [
    "trainer(ltsm_baseline_dropout, input_tensor, weight_decay = 7e-3 ,learning_rate = 0.1 )"
   ]
  },
  {
   "cell_type": "code",
   "execution_count": 40,
   "metadata": {},
   "outputs": [],
   "source": [
    "ltsm_unit_dropout2 = LSTMUnit(d)\n",
    "ltsm_layer_dropout2 = LTSMLayer(ltsm_unit)\n",
    "ltsm_baseline_dropout2 = LTSMBaseline(ltsm_layer, d, length, light_vocab,  drop= 0.3)"
   ]
  },
  {
   "cell_type": "code",
   "execution_count": 41,
   "metadata": {},
   "outputs": [
    {
     "name": "stdout",
     "output_type": "stream",
     "text": [
      "===============================================\n",
      "Epoch 0\n",
      "-------------------------------\n",
      "loss training set tensor(0.6674, grad_fn=<NllLossBackward0>) \n",
      " Train accuracy 58.83661048689139 \n",
      " Test accuracy 56.334841628959275\n",
      "===============================================\n",
      "Epoch 10\n",
      "-------------------------------\n",
      "loss training set tensor(0.4308, grad_fn=<NllLossBackward0>) \n",
      " Train accuracy 85.70926966292134 \n",
      " Test accuracy 61.71945701357466\n",
      "===============================================\n",
      "Epoch 20\n",
      "-------------------------------\n",
      "loss training set tensor(0.1858, grad_fn=<NllLossBackward0>) \n",
      " Train accuracy 96.80477528089888 \n",
      " Test accuracy 65.06787330316742\n",
      "===============================================\n",
      "Epoch 30\n",
      "-------------------------------\n",
      "loss training set tensor(0.1025, grad_fn=<NllLossBackward0>) \n",
      " Train accuracy 98.60720973782772 \n",
      " Test accuracy 67.6470588235294\n",
      "===============================================\n",
      "Epoch 40\n",
      "-------------------------------\n",
      "loss training set tensor(0.0664, grad_fn=<NllLossBackward0>) \n",
      " Train accuracy 98.97003745318352 \n",
      " Test accuracy 67.78280542986425\n",
      "===============================================\n",
      "Epoch 50\n",
      "-------------------------------\n",
      "loss training set tensor(0.0806, grad_fn=<NllLossBackward0>) \n",
      " Train accuracy 99.20411985018727 \n",
      " Test accuracy 69.86425339366515\n",
      "===============================================\n",
      "Epoch 60\n",
      "-------------------------------\n",
      "loss training set tensor(0.0299, grad_fn=<NllLossBackward0>) \n",
      " Train accuracy 99.1807116104869 \n",
      " Test accuracy 69.27601809954751\n",
      "===============================================\n",
      "Epoch 70\n",
      "-------------------------------\n",
      "loss training set tensor(0.0117, grad_fn=<NllLossBackward0>) \n",
      " Train accuracy 99.53183520599251 \n",
      " Test accuracy 69.81900452488688\n",
      "===============================================\n",
      "Epoch 80\n",
      "-------------------------------\n",
      "loss training set tensor(0.0260, grad_fn=<NllLossBackward0>) \n",
      " Train accuracy 99.19241573033707 \n",
      " Test accuracy 69.59276018099547\n",
      "===============================================\n",
      "Epoch 90\n",
      "-------------------------------\n",
      "loss training set tensor(0.0580, grad_fn=<NllLossBackward0>) \n",
      " Train accuracy 99.41479400749064 \n",
      " Test accuracy 70.18099547511312\n",
      "===============================================\n",
      "Epoch 100\n",
      "-------------------------------\n",
      "loss training set tensor(0.0221, grad_fn=<NllLossBackward0>) \n",
      " Train accuracy 98.72425093632958 \n",
      " Test accuracy 69.23076923076923\n",
      "=============================================== \n",
      "\n",
      "best accuracy test 71.6289592760181\n"
     ]
    }
   ],
   "source": [
    "trainer(ltsm_baseline_dropout2, input_tensor, optimizer = 'Adam', weight_decay = 7e-4 ,learning_rate = 1e-3)"
   ]
  },
  {
   "cell_type": "markdown",
   "metadata": {
    "id": "855DrT78DXps"
   },
   "source": [
    "## 5. Pretrained Word Vectors\n",
    "The last step is to use pretrained vocabulary and word vectors. The prebuilt vocabulary will replace the vocabulary you built with SST training data, and the word vectors will replace the embedding vectors. You will observe the power of leveraging self-supservised pretrained models.\n",
    "\n",
    "> **Problem 5.1 (bonus)** *(2 points)* Go to https://nlp.stanford.edu/projects/glove/ and download `glove.6B.zip`. Use these pretrained word vectors to replace word embeddings in your model from 4.2. Report the model's accuracy on the dev data."
   ]
  },
  {
   "cell_type": "code",
   "execution_count": 46,
   "metadata": {},
   "outputs": [
    {
     "name": "stdout",
     "output_type": "stream",
     "text": [
      "Collecting torchtext\n",
      "  Downloading torchtext-0.12.0-cp39-cp39-win_amd64.whl (1.5 MB)\n",
      "Requirement already satisfied: requests in c:\\users\\utilisateur\\anaconda3\\lib\\site-packages (from torchtext) (2.26.0)\n",
      "Requirement already satisfied: torch==1.11.0 in c:\\users\\utilisateur\\anaconda3\\lib\\site-packages (from torchtext) (1.11.0)\n",
      "Requirement already satisfied: tqdm in c:\\users\\utilisateur\\anaconda3\\lib\\site-packages (from torchtext) (4.62.3)\n",
      "Requirement already satisfied: numpy in c:\\users\\utilisateur\\anaconda3\\lib\\site-packages (from torchtext) (1.20.3)\n",
      "Requirement already satisfied: typing-extensions in c:\\users\\utilisateur\\anaconda3\\lib\\site-packages (from torch==1.11.0->torchtext) (3.10.0.2)\n",
      "Requirement already satisfied: charset-normalizer~=2.0.0 in c:\\users\\utilisateur\\anaconda3\\lib\\site-packages (from requests->torchtext) (2.0.4)\n",
      "Requirement already satisfied: idna<4,>=2.5 in c:\\users\\utilisateur\\anaconda3\\lib\\site-packages (from requests->torchtext) (3.2)\n",
      "Requirement already satisfied: certifi>=2017.4.17 in c:\\users\\utilisateur\\anaconda3\\lib\\site-packages (from requests->torchtext) (2021.10.8)\n",
      "Requirement already satisfied: urllib3<1.27,>=1.21.1 in c:\\users\\utilisateur\\anaconda3\\lib\\site-packages (from requests->torchtext) (1.26.7)\n",
      "Requirement already satisfied: colorama in c:\\users\\utilisateur\\anaconda3\\lib\\site-packages (from tqdm->torchtext) (0.4.4)\n",
      "Installing collected packages: torchtext\n",
      "Successfully installed torchtext-0.12.0\n"
     ]
    }
   ],
   "source": [
    "!pip install torchtext"
   ]
  },
  {
   "cell_type": "code",
   "execution_count": 82,
   "metadata": {},
   "outputs": [],
   "source": [
    "import torchtext\n",
    "from torchtext.vocab import GloVe\n",
    "\n",
    "global_vectors = GloVe(name='42B', dim=300)"
   ]
  },
  {
   "cell_type": "code",
   "execution_count": 81,
   "metadata": {},
   "outputs": [
    {
     "name": "stdout",
     "output_type": "stream",
     "text": [
      "tensor([[-7.7877e-01, -3.2644e-01,  1.1459e-01,  4.0642e-01,  4.1234e-01,\n",
      "         -1.0894e+00, -2.1342e+00,  3.6330e-01,  3.9650e-01, -4.6401e-01,\n",
      "          3.3883e-02, -1.1008e-01,  1.4672e-01,  7.4266e-02, -3.2108e-01,\n",
      "          1.9242e-01, -4.1347e-01, -3.2890e-01, -5.4363e-01,  6.1674e-02,\n",
      "          1.4994e-01,  8.9366e-02,  4.3432e-01,  3.6887e-01,  6.2091e-01,\n",
      "         -7.1983e-01,  7.0513e-01, -3.2059e-01, -3.3243e-02, -1.1829e-01,\n",
      "          9.1153e-01, -1.6461e-01,  9.4330e-02, -4.1873e-01, -4.2440e-02,\n",
      "          2.9465e-01,  1.9015e-01,  1.5170e-01,  1.3435e-01,  4.3159e-01,\n",
      "          1.0987e-01, -1.6962e-01,  1.4941e-01,  3.2041e-01, -1.8493e-01,\n",
      "         -1.6279e-02, -1.5440e-01,  6.6030e-02,  9.9850e-02,  3.6780e-02,\n",
      "         -1.9473e-01,  2.3747e-01,  1.5227e-01, -1.9476e-01, -3.0523e-01,\n",
      "         -2.6834e-01,  4.1157e-01,  5.7375e-02,  4.0617e-01,  1.0680e-01,\n",
      "          1.7304e-01,  6.4093e-01, -4.2068e-01, -9.7800e-02,  3.2104e-01,\n",
      "         -2.0237e-01, -2.2202e-01, -1.1292e-01, -4.4766e-01,  2.3097e-01,\n",
      "          1.3805e-01,  5.1059e-01, -2.8826e-01, -1.2013e-01, -6.1116e-02,\n",
      "          1.5365e-02,  3.5821e-02,  1.0270e-01, -8.4463e-01, -1.1573e-01,\n",
      "         -3.5364e-01,  2.1617e-01,  8.2922e-02,  3.8675e-01,  3.2510e-01,\n",
      "         -2.3428e-01,  9.6278e-03,  2.8395e-02,  1.0373e-01, -2.3575e-01,\n",
      "          5.4726e-01, -5.4496e-02, -2.0349e-01, -2.8352e-01, -7.4340e-01,\n",
      "         -2.6821e-01, -1.3272e+00,  6.4325e-03, -1.5870e-01, -4.9622e-01,\n",
      "         -1.1330e-01,  2.1862e-02,  9.0346e-01, -1.2180e-01,  3.6283e-02,\n",
      "          7.4576e-01,  8.0328e-02,  8.1184e-01, -6.5890e-02, -5.5241e-02,\n",
      "          4.7658e-01, -4.1101e-01, -1.5171e-01,  4.7784e-01,  1.0047e-01,\n",
      "         -4.0903e-01, -2.3593e-01, -3.5484e-01,  2.9095e-01,  5.1548e-01,\n",
      "         -2.0645e-01, -1.8276e-01, -4.8367e-01,  2.2953e-01,  9.5834e-02,\n",
      "         -1.2730e-01, -4.5667e-02, -4.9136e-02, -7.3731e-01, -2.1302e-01,\n",
      "          1.3630e-02,  2.5373e-02,  1.5293e-01, -2.0398e-01, -8.9566e-01,\n",
      "         -1.9954e-02, -2.9698e-01,  1.5143e-01,  4.8936e-01,  1.4569e-01,\n",
      "         -2.4637e-01, -1.2697e-02,  2.6593e-01, -3.7214e-01, -1.2219e-01,\n",
      "         -1.7027e-01,  1.1663e-01,  1.9809e-01,  1.4907e-01, -4.7136e-01,\n",
      "          1.3440e-01,  2.9660e-01, -3.5625e-01,  4.6464e-02,  2.7996e-01,\n",
      "         -1.8424e-01,  3.5242e-01,  3.0094e-01,  1.7857e-01, -6.0079e-01,\n",
      "         -3.1829e-01,  7.8521e-02, -5.4905e-02,  7.2446e-01, -7.4457e-02,\n",
      "          2.8408e-01,  2.2030e-01,  7.1081e-02, -6.0509e-01,  1.8989e-01,\n",
      "          2.2788e-01, -1.9076e-01,  2.4352e-01, -3.0024e-01,  7.0944e-02,\n",
      "          2.4995e-01,  3.7321e-01, -3.1448e-02,  3.0582e-02,  6.2247e-02,\n",
      "         -2.5580e-02,  2.4673e-01, -1.4413e-01,  7.6886e-03,  5.3462e-02,\n",
      "         -5.7058e-01,  1.6318e-01, -3.0466e-01,  1.2339e+00,  6.7841e-01,\n",
      "         -1.9871e-01, -6.4295e-04, -1.6394e-02, -2.8304e-01, -4.2795e-01,\n",
      "          6.6212e-02, -1.1053e-01,  3.1623e-01, -2.1266e-03,  1.6689e-01,\n",
      "          2.5850e-01, -4.1294e-01, -6.1984e-01, -5.8979e-02,  3.7933e-01,\n",
      "         -4.0705e-01, -5.4772e-01, -8.0096e-02,  1.2858e-01,  3.6091e-01,\n",
      "          1.0890e-01, -1.8254e-01,  2.2940e-01, -4.9994e-01, -3.8369e-02,\n",
      "         -7.6241e-02, -8.3770e-02,  2.7503e-01, -1.3610e-01, -4.2920e-01,\n",
      "         -2.2293e-01, -2.1872e-01, -7.4187e-02,  1.8580e-01, -2.4503e+00,\n",
      "          3.6806e-01,  2.7883e-01,  2.4912e-01,  1.2286e+00,  4.4229e-01,\n",
      "          4.0504e-01, -6.3443e-01,  2.3472e-01,  1.7888e-02,  1.2972e-01,\n",
      "         -1.1136e+00, -1.4474e-01,  2.3759e-01, -4.9185e-01, -4.4007e-01,\n",
      "         -3.5261e-01, -2.9344e-01, -1.4475e-01,  1.2443e-02,  5.2661e-01,\n",
      "         -9.1263e-02, -1.1150e-02, -2.1341e-01,  4.1992e-01,  3.9554e-01,\n",
      "          9.3442e-02, -2.5092e-01, -2.5726e-01,  1.5443e-02, -2.5203e-01,\n",
      "          6.6114e-01,  1.6184e-01,  1.3589e-01, -3.0533e-01,  1.3948e-01,\n",
      "          2.0167e-01,  6.3274e-02, -3.9139e-01, -4.6267e-02, -3.3242e-01,\n",
      "         -2.6619e-01,  4.2937e-01,  2.8203e-01, -9.7962e-03,  8.8524e-02,\n",
      "         -2.0821e-02, -7.8902e-01,  6.9930e-01, -5.0059e-02,  5.2730e-01,\n",
      "          1.9781e-01, -6.6409e-01,  3.0180e-01, -1.7035e-01, -4.1736e-01,\n",
      "         -1.4411e-01,  8.4598e-02, -1.7554e-01,  1.3717e-01, -5.3810e-02,\n",
      "         -1.3949e-01,  4.0745e-01,  1.1359e-01, -1.8677e-01,  1.0651e-01,\n",
      "          7.0392e-02, -5.3665e-01,  1.9292e-01,  2.4373e-01,  3.2932e-01,\n",
      "          7.4573e-01, -2.0214e-01,  2.6753e-01, -3.5025e-01, -7.6934e-01],\n",
      "        [-9.6440e-02,  1.0899e-01, -2.6682e-01,  3.9822e-01,  5.0950e-01,\n",
      "         -3.9760e-02, -2.4461e+00, -2.7646e-01, -3.5326e-02, -1.4878e+00,\n",
      "          6.4867e-01, -2.2954e-01,  8.9315e-02, -6.9715e-01, -2.1951e-01,\n",
      "         -2.5478e-01, -3.3066e-01, -2.3503e-01, -1.0787e-01, -2.2410e-02,\n",
      "          2.8694e-01,  2.6729e-01,  1.2220e-01,  3.3547e-01,  3.4493e-01,\n",
      "          4.0432e-01, -4.1334e-01,  3.0973e-01,  1.6526e-01, -3.0606e-01,\n",
      "         -1.4817e-01, -6.0803e-01,  5.2479e-01,  7.4385e-01,  7.6627e-01,\n",
      "          3.5729e-01, -2.0700e-01,  3.6985e-01,  5.9857e-01,  3.9553e-01,\n",
      "         -1.3770e-01,  4.4387e-01,  3.1327e-01,  3.7374e-01, -1.6531e-01,\n",
      "          2.7345e-01, -7.4552e-01, -2.4016e-01, -7.4827e-01, -5.5608e-02,\n",
      "          4.2782e-02, -5.0165e-02,  5.0855e-01,  4.8335e-01,  2.1245e-01,\n",
      "          1.4540e-01,  5.6903e-01,  9.4004e-02,  6.4868e-01, -2.3013e-01,\n",
      "         -7.3108e-01, -3.3375e-01, -3.3461e-02, -1.0327e-01, -1.8559e-01,\n",
      "          7.2306e-01, -1.0113e-01,  5.5049e-02,  1.3942e-01, -3.6228e-02,\n",
      "         -1.5846e-02, -1.7436e-02, -2.4484e-01,  7.4158e-01,  1.4852e-01,\n",
      "         -1.0968e-01,  3.2473e-01,  4.3564e-01,  8.2062e-02,  2.4270e-01,\n",
      "          6.7724e-01,  5.6319e-01, -2.7755e-01,  9.4591e-02, -4.1029e-01,\n",
      "          4.7390e-01,  2.3742e-01,  2.3028e-01,  3.8320e-02, -2.2933e-01,\n",
      "         -3.9492e-01, -3.5728e-01,  5.5272e-01,  9.1759e-02,  8.3218e-02,\n",
      "         -4.3338e-01, -2.0708e+00,  4.6366e-01,  2.8382e-01, -2.8344e-01,\n",
      "         -9.7557e-02, -3.6566e-01,  6.7241e-01,  1.2539e-01,  7.5427e-02,\n",
      "         -1.2674e-01, -3.0376e-01,  2.7523e-01,  3.0246e-01, -6.6778e-01,\n",
      "          7.9322e-02, -3.2693e-01,  6.1285e-02,  2.5488e-01,  2.1256e-01,\n",
      "         -2.3772e-01,  1.7403e-01, -6.7487e-01,  3.0449e-01,  1.8433e-01,\n",
      "         -4.3917e-01, -6.7579e-02,  5.5852e-02,  3.5154e-01, -5.7947e-03,\n",
      "          2.8710e-01,  6.3673e-01, -2.0212e-02, -5.5095e-01,  8.7737e-03,\n",
      "         -6.9722e-01,  1.3210e-01, -4.8841e-01, -3.3088e-01,  3.0326e-01,\n",
      "         -1.8834e-01,  3.6349e-01, -2.8865e-01, -3.1149e-02,  7.5977e-01,\n",
      "          1.2608e-01,  2.0345e-01,  2.2304e-03, -1.0085e-01,  6.4939e-01,\n",
      "         -2.6718e-01, -3.6941e-01,  3.9369e-02,  4.1716e-01,  4.2363e-01,\n",
      "         -1.9253e-01, -1.5207e-01, -4.1507e-01, -2.4234e-01,  4.1450e-01,\n",
      "         -2.2459e-01, -4.1074e-01,  5.4250e-01,  7.1551e-01,  3.6802e-02,\n",
      "         -4.1225e-01,  1.2957e-01, -3.8291e-01,  9.9971e-02,  3.3120e-01,\n",
      "         -3.8313e-01,  3.8995e-01, -1.5248e-01, -1.2848e-01, -2.2228e-01,\n",
      "          7.4929e-03,  9.0550e-03, -2.0688e-01,  1.8465e-01, -3.2490e-01,\n",
      "          4.2423e-02, -2.5043e-02, -9.0557e-02, -8.7896e-01,  3.9293e-01,\n",
      "          8.3457e-02, -5.1859e-01,  7.7952e-02, -9.5297e-02,  1.0049e-01,\n",
      "          4.8391e-01, -3.2049e-01,  1.7206e-02,  3.3491e-01,  4.4982e-01,\n",
      "         -1.1261e+00,  4.7445e-02, -1.4608e-01, -1.5005e-01,  4.4298e-01,\n",
      "         -8.3727e-02,  1.6362e-01, -1.5214e-01, -4.8463e-02,  5.5724e-01,\n",
      "          1.5747e-01, -2.2827e-01, -3.3117e-01,  3.0674e-02,  3.4683e-01,\n",
      "          1.4324e-01, -7.5140e-02, -4.6387e-01,  7.5659e-01,  2.0386e-01,\n",
      "         -1.3200e-01, -5.1235e-01,  4.3427e-01,  2.3980e-02, -2.7098e-02,\n",
      "         -4.1722e-01, -1.1191e-01, -1.4161e-01,  1.8540e-01,  5.0639e-01,\n",
      "         -5.7653e-02,  4.8696e-01,  1.9088e-01, -3.3410e-01, -3.1843e+00,\n",
      "         -5.3904e-01, -1.6168e-01,  1.0904e-01, -4.7614e-01, -5.6659e-02,\n",
      "          3.5184e-02,  1.4480e-01, -1.4032e-04,  2.0257e-01, -2.5860e-01,\n",
      "          4.3270e-01,  1.9648e-01, -1.1353e-02,  1.1878e+00,  4.1703e-01,\n",
      "          1.8765e-01, -2.2758e-01, -5.6148e-01,  2.2147e-01,  3.4086e-01,\n",
      "         -6.0034e-01,  1.1496e-01,  2.2719e-01,  3.5677e-01,  4.5019e-01,\n",
      "         -1.9946e-01,  6.3163e-01,  3.9817e-01,  3.3220e-01,  4.9307e-01,\n",
      "          8.0538e-02, -3.9066e-01,  2.8198e-01,  3.2050e-02,  1.3863e-02,\n",
      "          4.5714e-01,  4.1047e-01, -4.8105e-01, -2.0905e-01,  2.0110e-01,\n",
      "          4.3541e-01,  5.5627e-01,  3.0447e-01, -4.8070e-01, -8.0062e-02,\n",
      "         -3.4070e-01,  1.3741e-01, -8.8559e-01, -1.0265e-01, -9.5930e-02,\n",
      "         -2.4706e-01, -2.5046e-01,  5.0720e-01, -3.0031e-01, -6.9031e-02,\n",
      "          7.1915e-01, -1.4454e-01, -4.7366e-01, -8.7682e-02,  1.6791e-01,\n",
      "         -2.2650e-01, -6.9268e-02, -3.9485e-02, -2.1785e-01, -1.6001e-01,\n",
      "         -7.1344e-02,  4.3658e-01, -6.5569e-01,  2.9929e-01, -4.2099e-01,\n",
      "         -3.8368e-01,  6.5472e-01, -3.7264e-01,  3.0504e-01,  1.2706e-01],\n",
      "        [ 2.7363e-01,  2.3276e-02, -4.5991e-01,  2.0225e-01, -1.4634e-01,\n",
      "          1.9541e-01, -2.5836e+00, -1.3096e+00, -5.1883e-02, -7.4585e-01,\n",
      "         -1.0765e-01, -4.0806e-01,  3.4753e-01,  3.4810e-01, -4.4468e-01,\n",
      "         -6.7662e-01, -4.5531e-01, -3.5925e-01, -4.7155e-01,  2.9607e-01,\n",
      "         -1.9859e-01,  1.3487e-01,  4.5591e-01,  1.7965e-01,  3.0162e-01,\n",
      "          3.9745e-01,  1.8574e-01,  7.9818e-02, -2.0822e-01,  4.1269e-01,\n",
      "          1.2821e-01,  2.3743e-01,  2.8396e-01,  5.2562e-01,  1.7344e-02,\n",
      "         -1.8602e-01,  2.4191e-01,  6.8302e-02,  4.5480e-01, -2.7086e-01,\n",
      "         -5.5349e-02, -2.3051e-01,  4.5207e-01,  5.0755e-02, -2.3643e-01,\n",
      "          4.0686e-03, -1.3762e-01, -7.2753e-01, -3.4083e-01, -1.7018e-01,\n",
      "          1.6900e-01, -1.2430e-02,  1.8040e-01, -1.1303e-01,  2.6872e-01,\n",
      "          9.8912e-02,  2.3268e-01, -4.1697e-01,  7.0158e-01, -1.6008e-01,\n",
      "         -7.2794e-02, -1.0944e-01,  5.3552e-01,  1.2561e-01, -3.8048e-01,\n",
      "         -3.7996e-01,  9.1240e-02,  5.3833e-01, -5.2023e-01, -1.2577e-01,\n",
      "         -6.5676e-01,  5.4351e-02, -3.5558e-01,  1.7026e-01,  8.2665e-03,\n",
      "         -8.2770e-01, -4.2965e-01,  1.0714e-01,  6.4237e-01,  1.9276e-01,\n",
      "          1.8200e-01,  4.8702e-01, -2.2064e-01, -2.6973e-01,  5.1923e-02,\n",
      "          2.7721e-01,  1.1725e-01, -1.7499e-01,  3.0368e-02,  3.2627e-01,\n",
      "         -1.1662e-01,  9.1587e-02,  1.6938e-01,  3.7851e-01, -4.0289e-02,\n",
      "         -7.2534e-03, -2.1376e+00,  3.3576e-01, -7.9686e-02, -1.2276e-01,\n",
      "         -1.1505e-01, -3.0283e-01,  8.8296e-02, -1.5151e-01, -5.0183e-02,\n",
      "          4.4791e-01, -7.5290e-01, -3.4720e-01, -3.0822e-01, -3.5190e-01,\n",
      "         -4.0258e-01,  1.1957e-02,  4.0216e-01,  1.2222e-01, -6.3175e-01,\n",
      "          2.9737e-01,  4.4658e-01,  4.8254e-02,  5.3762e-01, -5.2160e-02,\n",
      "         -2.2672e-01, -2.2059e-01,  6.8482e-01,  2.0207e-02, -1.7340e-01,\n",
      "         -3.4681e-01, -1.0745e-01, -1.2858e-01, -9.0175e-02, -2.6172e-01,\n",
      "         -2.9591e-01,  1.9867e-01, -2.3146e-01, -2.5295e-01, -1.9136e-01,\n",
      "          5.9417e-02,  4.5789e-01, -3.3365e-01,  1.2101e-01,  6.0326e-01,\n",
      "          1.0136e-01,  6.9676e-01, -1.6891e-01, -2.4046e-01, -2.4547e-01,\n",
      "         -3.7655e-01, -2.7395e-01, -5.1372e-02,  1.0702e+00,  8.4513e-02,\n",
      "          1.2801e-01,  2.8545e-01, -4.2343e-02, -3.3806e-02, -3.7357e-03,\n",
      "         -4.8792e-02, -4.3224e-01, -2.5213e-02, -5.8275e-01,  3.5875e-01,\n",
      "          6.5031e-01, -2.8349e-02,  3.5684e-01, -1.3550e-01,  2.1644e-01,\n",
      "          6.9121e-01, -2.2386e-01, -1.8649e-01,  3.5899e-01,  1.4133e-01,\n",
      "          2.4116e-02, -6.2178e-02, -3.9575e-01, -5.7028e-01,  5.3481e-01,\n",
      "          4.1509e-01, -3.2727e-01, -3.1698e-01, -1.1187e-02, -2.8910e-01,\n",
      "          3.6113e-02, -1.8275e-01, -1.0570e-01, -1.0505e-01,  7.4447e-02,\n",
      "         -4.0827e-03,  2.6429e-01,  3.2555e-01,  4.0329e-01, -3.1769e-01,\n",
      "         -9.5747e-02,  6.7883e-02, -2.9102e-01,  2.1215e-01,  2.2513e-01,\n",
      "          4.0045e-01,  2.1614e-01, -1.3507e-02,  9.7095e-02,  3.8057e-01,\n",
      "         -5.4372e-01,  1.0851e-01,  5.8201e-01, -4.3089e-01, -4.2684e-01,\n",
      "          1.4683e-01, -1.0389e-01,  2.6596e-01,  1.8682e-01,  2.1772e-01,\n",
      "         -1.3588e-01, -2.1235e-01,  1.9082e-01,  5.7486e-02, -2.8148e-01,\n",
      "          9.8734e-02,  2.8779e-01, -2.1123e-01, -9.4706e-02, -3.1615e-01,\n",
      "          2.1058e-01, -3.7037e-02,  2.2132e-01,  7.2612e-02, -3.1496e+00,\n",
      "         -1.0899e+00,  1.9390e-01, -4.9461e-01, -3.9264e-01, -1.3461e-01,\n",
      "          3.9556e-01,  1.4059e-01, -3.7489e-01, -5.0904e-01, -1.4102e-01,\n",
      "         -3.0084e-02, -5.8533e-01, -2.4265e-01, -1.6898e-01, -1.5799e-02,\n",
      "          7.5242e-01, -2.5543e-01, -8.4538e-02,  5.2923e-03, -1.2993e-01,\n",
      "          1.6594e-01, -6.6653e-04,  3.3352e-01, -2.4406e-01, -3.4911e-01,\n",
      "          3.0757e-01, -6.2662e-02, -1.3553e-01, -2.1679e-01,  4.0431e-01,\n",
      "         -2.2540e-01, -3.8340e-03, -1.0344e-01, -3.5941e-01, -5.5223e-01,\n",
      "         -2.9169e-01,  1.8750e-01, -3.9515e-01,  4.4332e-01,  3.2301e-01,\n",
      "         -1.7781e-01, -5.7619e-01,  1.6704e-01, -1.7157e-01,  1.9069e-01,\n",
      "         -1.9710e-01,  1.6449e-03, -7.9067e-01,  1.4701e-01, -4.6411e-02,\n",
      "          1.8247e-01,  1.3199e-01, -2.9072e-01, -7.3826e-01,  3.3722e-01,\n",
      "          1.2683e+00,  2.3480e-01, -2.0659e-01, -3.4847e-01,  5.0298e-01,\n",
      "          5.2218e-01, -2.0276e-01,  1.6924e-01, -1.8541e-01,  1.0631e-01,\n",
      "         -2.9032e-01, -1.8822e-01, -3.6792e-01, -1.8418e-01,  5.0460e-01,\n",
      "          1.9619e-02, -5.3564e-02,  3.5998e-02,  1.5684e-01,  3.8211e-01]])\n"
     ]
    }
   ],
   "source": [
    "examples = ['chip', 'baby', 'Beautiful']\n",
    "ret = global_vectors.get_vecs_by_tokens(examples, lower_case_backup=True)\n",
    "print(ret)"
   ]
  },
  {
   "cell_type": "code",
   "execution_count": null,
   "metadata": {},
   "outputs": [],
   "source": [
    "class LTSMBaselineGlove(nn.Module):\n",
    "    def __init__(self, ltsm,  d, length, vocab, drop):\n",
    "        super(LTSMBaseline, self).__init__()\n",
    "        self.ltsm = ltsm\n",
    "        self.embedding = nn.Embedding(len(vocab), d)\n",
    "        self.layer = nn.Linear(d * length, d, bias=True)\n",
    "        self.relu = nn.ReLU()\n",
    "        self.class_layer = nn.Linear(d, 2, bias=True)\n",
    "        self.dropout = nn.Dropout(drop)\n",
    "        self.drop = drop \n",
    "\n",
    "    def forward(self, input_):\n",
    "        emb =  global_vectors.get_vecs_by_tokens(input_.split(' '), lower_case_backup=True) # [batch_size, length, d]\n",
    "        emb_ltsm = self.ltsm.forward(emb)\n",
    "        if self.drop != 0 : \n",
    "            emb_ltsm_drop = self.dropout(emb_ltsm)\n",
    "            emb_flat = emb_ltsm_drop.view(emb_ltsm_drop.size(0), -1) # [batch_size, length*d]\n",
    "            hidden = self.relu(self.layer(emb_flat))\n",
    "            logits = self.class_layer(hidden) \n",
    "        else : \n",
    "            emb_flat = emb_ltsm.view(emb_ltsm.size(0), -1) # [batch_size, length*d]\n",
    "            hidden = self.relu(self.layer(emb_flat))\n",
    "            logits = self.class_layer(hidden)        \n",
    "        return logits\n",
    "    "
   ]
  },
  {
   "cell_type": "code",
   "execution_count": null,
   "metadata": {},
   "outputs": [],
   "source": []
  }
 ],
 "metadata": {
  "colab": {
   "collapsed_sections": [],
   "name": "Copie de KAIST AI605 Assignment 1.ipynb",
   "provenance": []
  },
  "kernelspec": {
   "display_name": "Python 3 (ipykernel)",
   "language": "python",
   "name": "python3"
  },
  "language_info": {
   "codemirror_mode": {
    "name": "ipython",
    "version": 3
   },
   "file_extension": ".py",
   "mimetype": "text/x-python",
   "name": "python",
   "nbconvert_exporter": "python",
   "pygments_lexer": "ipython3",
   "version": "3.9.7"
  }
 },
 "nbformat": 4,
 "nbformat_minor": 1
}
